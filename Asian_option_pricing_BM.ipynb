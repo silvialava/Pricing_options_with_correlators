{
 "cells": [
  {
   "cell_type": "code",
   "execution_count": null,
   "metadata": {},
   "outputs": [],
   "source": [
    "# This notebook contains the code for the experiments in Section 5.1"
   ]
  },
  {
   "cell_type": "code",
   "execution_count": 1,
   "metadata": {},
   "outputs": [],
   "source": [
    "%run Correlators_tools.ipynb"
   ]
  },
  {
   "cell_type": "markdown",
   "metadata": {},
   "source": [
    "### Model characteristics ###"
   ]
  },
  {
   "cell_type": "code",
   "execution_count": 2,
   "metadata": {
    "scrolled": true
   },
   "outputs": [
    {
     "name": "stdout",
     "output_type": "stream",
     "text": [
      "mean =  0\n",
      "std =  0.7071067811865476\n"
     ]
    }
   ],
   "source": [
    "T = 1/2\n",
    "t = 0 \n",
    "r = 0.0\n",
    "mean = 0\n",
    "tau = np.sqrt(T-t)\n",
    "sigma = 1\n",
    "std = sigma*tau\n",
    "\n",
    "print('mean = ', mean)\n",
    "print('std = ', std)"
   ]
  },
  {
   "cell_type": "markdown",
   "metadata": {},
   "source": [
    "## PRICING"
   ]
  },
  {
   "cell_type": "code",
   "execution_count": 3,
   "metadata": {},
   "outputs": [],
   "source": [
    "# Strike price\n",
    "K = 0.0"
   ]
  },
  {
   "cell_type": "code",
   "execution_count": 4,
   "metadata": {},
   "outputs": [
    {
     "name": "stdout",
     "output_type": "stream",
     "text": [
      "price_exact =  0.28209479177387814\n"
     ]
    }
   ],
   "source": [
    "# CLOSED FORMULA\n",
    "price_exact = (sigma*np.sqrt((T-t)/2/np.pi)*np.exp(-(K**2)/2/(T-t)/sigma)-K*(1-norm.cdf(K/np.sqrt(T-t)/sigma)))*np.exp(-r*(T-t))\n",
    "print('price_exact = ', price_exact)"
   ]
  },
  {
   "cell_type": "code",
   "execution_count": 5,
   "metadata": {
    "scrolled": true
   },
   "outputs": [
    {
     "name": "stdout",
     "output_type": "stream",
     "text": [
      "MC_price_interval = [ 0.2790782367737531 ,  0.28475869119777475 ]\n",
      "std =  0.0028402272120108176\n"
     ]
    }
   ],
   "source": [
    "# MONTE CARLO SIMULATIONS\n",
    "\n",
    "N_mc = 100 # number of samples\n",
    "IT = 20000 # number of iterations for each sample\n",
    "\n",
    "price_MC = np.zeros(N_mc)\n",
    "for mc in range(N_mc):\n",
    "    X = np.random.normal(loc = 0, scale = std, size = IT)\n",
    "    price = 0\n",
    "    \n",
    "    for i in range(IT):\n",
    "        price += max(X[i]-K,0)*np.exp(-r*(T-t))\n",
    "    \n",
    "    price_MC[mc] = np.sum(price)/IT\n",
    "\n",
    "print('MC_price_interval = [', np.mean(price_MC) - np.std(price_MC), ', ', np.mean(price_MC) + np.std(price_MC), ']')\n",
    "print('std = ', np.std(price_MC))"
   ]
  },
  {
   "cell_type": "code",
   "execution_count": 6,
   "metadata": {},
   "outputs": [
    {
     "name": "stdout",
     "output_type": "stream",
     "text": [
      "accuracy_MC =  3.2040743083063066\n"
     ]
    }
   ],
   "source": [
    "accuracy_MC = -np.log10(np.abs(np.mean(price_MC)-price_exact)/price_exact)\n",
    "print('accuracy_MC = ', accuracy_MC)"
   ]
  },
  {
   "cell_type": "markdown",
   "metadata": {},
   "source": [
    "### Pricing with generalized Hermite polynomials"
   ]
  },
  {
   "cell_type": "code",
   "execution_count": 7,
   "metadata": {},
   "outputs": [
    {
     "name": "stdout",
     "output_type": "stream",
     "text": [
      "min_scale =  0.5\n",
      "K =  0.0\n",
      "drift =  0\n",
      "scale =  1.0\n",
      "ratio =  0.0\n"
     ]
    }
   ],
   "source": [
    "# Parameters for the Hermite series \n",
    "min_scale = std/np.sqrt(2) #\\underline{b}_{\\sigma}\n",
    "print('min_scale = ', min_scale)\n",
    "\n",
    "drift = mean\n",
    "scale = min_scale*2\n",
    "ratio = (K-drift)/scale\n",
    "\n",
    "print('K = ', K)\n",
    "print('drift = ', drift)\n",
    "print('scale = ', scale)\n",
    "print('ratio = ', ratio)"
   ]
  },
  {
   "cell_type": "code",
   "execution_count": 8,
   "metadata": {
    "scrolled": true
   },
   "outputs": [
    {
     "name": "stdout",
     "output_type": "stream",
     "text": [
      "---------------- n =  1\n",
      "---------------- n =  2\n",
      "---------------- n =  3\n",
      "---------------- n =  4\n",
      "---------------- n =  5\n",
      "---------------- n =  6\n",
      "---------------- n =  7\n",
      "---------------- n =  8\n",
      "---------------- n =  9\n",
      "---------------- n =  10\n",
      "---------------- n =  11\n",
      "---------------- n =  12\n",
      "---------------- n =  13\n",
      "---------------- n =  14\n",
      "---------------- n =  15\n",
      "---------------- n =  16\n",
      "---------------- n =  17\n",
      "---------------- n =  18\n",
      "---------------- n =  19\n",
      "---------------- n =  20\n",
      "---------------- n =  21\n",
      "---------------- n =  22\n",
      "---------------- n =  23\n",
      "---------------- n =  24\n",
      "---------------- n =  25\n",
      "---------------- n =  26\n",
      "---------------- n =  27\n",
      "---------------- n =  28\n",
      "---------------- n =  29\n",
      "---------------- n =  30\n",
      "---------------- n =  31\n",
      "---------------- n =  32\n",
      "---------------- n =  33\n",
      "---------------- n =  34\n",
      "---------------- n =  35\n",
      "---------------- n =  36\n",
      "---------------- n =  37\n",
      "---------------- n =  38\n",
      "---------------- n =  39\n",
      "---------------- n =  40\n",
      "---------------- n =  41\n",
      "---------------- n =  42\n",
      "---------------- n =  43\n",
      "---------------- n =  44\n",
      "---------------- n =  45\n",
      "---------------- n =  46\n",
      "---------------- n =  47\n",
      "---------------- n =  48\n",
      "---------------- n =  49\n",
      "---------------- n =  50\n",
      "---------------- n =  51\n",
      "---------------- n =  52\n",
      "---------------- n =  53\n",
      "---------------- n =  54\n",
      "---------------- n =  55\n",
      "---------------- n =  56\n",
      "---------------- n =  57\n",
      "---------------- n =  58\n",
      "---------------- n =  59\n",
      "---------------- n =  60\n",
      "---------------- n =  61\n",
      "---------------- n =  62\n",
      "---------------- n =  63\n",
      "---------------- n =  64\n",
      "---------------- n =  65\n",
      "---------------- n =  66\n",
      "---------------- n =  67\n",
      "---------------- n =  68\n",
      "---------------- n =  69\n",
      "---------------- n =  70\n",
      "---------------- n =  71\n",
      "---------------- n =  72\n",
      "---------------- n =  73\n",
      "---------------- n =  74\n",
      "---------------- n =  75\n",
      "---------------- n =  76\n",
      "---------------- n =  77\n",
      "---------------- n =  78\n",
      "---------------- n =  79\n",
      "---------------- n =  80\n",
      "---------------- n =  81\n",
      "---------------- n =  82\n",
      "---------------- n =  83\n"
     ]
    },
    {
     "name": "stderr",
     "output_type": "stream",
     "text": [
      "/var/folders/wh/cbcw_w9x52gczwyz44rzs7xr0000gn/T/ipykernel_5986/1402603017.py:4: DeprecationWarning: Using factorial() with floats is deprecated\n",
      "  return sigma**p*math.factorial(p)/(2**k)/math.factorial(k)\n"
     ]
    },
    {
     "name": "stdout",
     "output_type": "stream",
     "text": [
      "---------------- n =  84\n",
      "---------------- n =  85\n",
      "---------------- n =  86\n",
      "---------------- n =  87\n",
      "---------------- n =  88\n",
      "---------------- n =  89\n",
      "---------------- n =  90\n",
      "---------------- n =  91\n",
      "---------------- n =  92\n",
      "---------------- n =  93\n",
      "---------------- n =  94\n",
      "---------------- n =  95\n",
      "---------------- n =  96\n",
      "---------------- n =  97\n",
      "---------------- n =  98\n",
      "---------------- n =  99\n",
      "---------------- n =  100\n",
      "---------------- n =  101\n",
      "---------------- n =  102\n",
      "---------------- n =  103\n",
      "---------------- n =  104\n",
      "---------------- n =  105\n",
      "---------------- n =  106\n",
      "---------------- n =  107\n",
      "---------------- n =  108\n",
      "---------------- n =  109\n",
      "---------------- n =  110\n",
      "---------------- n =  111\n",
      "---------------- n =  112\n",
      "---------------- n =  113\n",
      "---------------- n =  114\n",
      "---------------- n =  115\n",
      "---------------- n =  116\n",
      "---------------- n =  117\n",
      "---------------- n =  118\n",
      "---------------- n =  119\n",
      "---------------- n =  120\n",
      "---------------- n =  121\n",
      "---------------- n =  122\n",
      "---------------- n =  123\n",
      "---------------- n =  124\n",
      "---------------- n =  125\n",
      "---------------- n =  126\n",
      "---------------- n =  127\n",
      "---------------- n =  128\n",
      "---------------- n =  129\n",
      "---------------- n =  130\n",
      "---------------- n =  131\n",
      "---------------- n =  132\n",
      "---------------- n =  133\n",
      "---------------- n =  134\n",
      "---------------- n =  135\n",
      "---------------- n =  136\n",
      "---------------- n =  137\n",
      "---------------- n =  138\n",
      "---------------- n =  139\n",
      "---------------- n =  140\n",
      "---------------- n =  141\n",
      "---------------- n =  142\n",
      "---------------- n =  143\n",
      "---------------- n =  144\n",
      "---------------- n =  145\n",
      "---------------- n =  146\n",
      "---------------- n =  147\n",
      "---------------- n =  148\n",
      "---------------- n =  149\n",
      "---------------- n =  150\n",
      "E_N =  [1.00000000e+000 0.00000000e+000 5.00000000e-001 0.00000000e+000\n",
      " 7.50000000e-001 0.00000000e+000 1.87500000e+000 0.00000000e+000\n",
      " 6.56250000e+000 0.00000000e+000 2.95312500e+001 0.00000000e+000\n",
      " 1.62421875e+002 0.00000000e+000 1.05574219e+003 0.00000000e+000\n",
      " 7.91806641e+003 0.00000000e+000 6.73035645e+004 0.00000000e+000\n",
      " 6.39383862e+005 0.00000000e+000 6.71353055e+006 0.00000000e+000\n",
      " 7.72056014e+007 0.00000000e+000 9.65070017e+008 0.00000000e+000\n",
      " 1.30284452e+010 0.00000000e+000 1.88912456e+011 0.00000000e+000\n",
      " 2.92814307e+012 0.00000000e+000 4.83143606e+013 0.00000000e+000\n",
      " 8.45501310e+014 0.00000000e+000 1.56417742e+016 0.00000000e+000\n",
      " 3.05014598e+017 0.00000000e+000 6.25279925e+018 0.00000000e+000\n",
      " 1.34435184e+020 0.00000000e+000 3.02479164e+021 0.00000000e+000\n",
      " 7.10826035e+022 0.00000000e+000 1.74152379e+024 0.00000000e+000\n",
      " 4.44088565e+025 0.00000000e+000 1.17683470e+027 0.00000000e+000\n",
      " 3.23629542e+028 0.00000000e+000 9.22344195e+029 0.00000000e+000\n",
      " 2.72091537e+031 0.00000000e+000 8.29879189e+032 0.00000000e+000\n",
      " 2.61411945e+034 0.00000000e+000 8.49588820e+035 0.00000000e+000\n",
      " 2.84612255e+037 0.00000000e+000 9.81912279e+038 0.00000000e+000\n",
      " 3.48578859e+040 0.00000000e+000 1.27231284e+042 0.00000000e+000\n",
      " 4.77117313e+043 0.00000000e+000 1.83690166e+045 0.00000000e+000\n",
      " 7.25576154e+046 0.00000000e+000 2.93858342e+048 0.00000000e+000\n",
      " 1.21951212e+050 0.00000000e+000 5.18292651e+051 0.00000000e+000\n",
      " 2.25457303e+053 0.00000000e+000 1.00328500e+055 0.00000000e+000\n",
      " 4.56494675e+056 0.00000000e+000 2.12270024e+058 0.00000000e+000\n",
      " 1.00828261e+060 0.00000000e+000 4.89017067e+061 0.00000000e+000\n",
      " 2.42063448e+063 0.00000000e+000 1.22242041e+065 0.00000000e+000\n",
      " 6.29546513e+066 0.00000000e+000 3.30511920e+068 0.00000000e+000\n",
      " 1.76823877e+070 0.00000000e+000 9.63690129e+071 0.00000000e+000\n",
      " 5.34848022e+073 0.00000000e+000 3.02189132e+075 0.00000000e+000\n",
      " 1.73758751e+077 0.00000000e+000 1.01648869e+079 0.00000000e+000\n",
      " 6.04810773e+080 0.00000000e+000 3.65910518e+082 0.00000000e+000\n",
      " 2.25034968e+084 0.00000000e+000 1.40646855e+086 0.00000000e+000\n",
      " 8.93107530e+087 0.00000000e+000 5.76054357e+089 0.00000000e+000\n",
      " 3.77315604e+091 0.00000000e+000 2.50914877e+093 0.00000000e+000\n",
      " 1.69367542e+095 0.00000000e+000 1.16016766e+097 0.00000000e+000\n",
      " 8.06316524e+098 0.00000000e+000 5.68453150e+100 0.00000000e+000\n",
      " 4.06444002e+102 0.00000000e+000 2.94671901e+104 0.00000000e+000\n",
      " 2.16583848e+106 0.00000000e+000 1.61354966e+108]\n"
     ]
    }
   ],
   "source": [
    "# We first calculate the moments of X (see Eq. (4.2))\n",
    "N = 150 # truncation number\n",
    "\n",
    "E_N = np.zeros(N+1) \n",
    "E_N[0] = 1\n",
    "\n",
    "for n in range(1,N+1):\n",
    "    print('---------------- n = ', n)\n",
    "    E_N_n = 0\n",
    "    index = multi_index(1, n)\n",
    "    for i in index:\n",
    "        coeff = multi_coeff(i)\n",
    "        power = i[0]\n",
    "        if power == 0: \n",
    "            correlator = 1\n",
    "        else:    \n",
    "            correlator = moment_BM(power, std)\n",
    "        E_N_n = E_N_n + coeff*correlator*((-drift)**(i[1]))\n",
    "    E_N[n] = E_N_n/(scale**n)\n",
    "\n",
    "print('E_N = ', E_N)"
   ]
  },
  {
   "cell_type": "code",
   "execution_count": 9,
   "metadata": {
    "scrolled": true
   },
   "outputs": [
    {
     "name": "stdout",
     "output_type": "stream",
     "text": [
      "k =  1 , price =  0.3989422804014327\n",
      "k =  2 , price =  0.3989422804014327 ,  0.382775685337863\n",
      "k =  3 , price =  0.29920671030107454 ,  1.217096364171697\n",
      "k =  4 , price =  0.29920671030107454 ,  1.217096364171697\n",
      "k =  5 , price =  0.2867397640385298 ,  1.783411942844372\n",
      "k =  6 , price =  0.2867397640385298 ,  1.783411942844372\n",
      "k =  7 , price =  0.2836230274728936 ,  2.266204727566223\n",
      "k =  8 , price =  0.2836230274728936 ,  2.266204727566223\n",
      "k =  9 , price =  0.28264904729613227 ,  2.7066850391432475\n",
      "k =  10 , price =  0.28264904729613227 ,  2.7066850391432475\n",
      "k =  11 , price =  0.2823081542342658 ,  3.121277057214583\n",
      "k =  12 , price =  0.2823081542342658 ,  3.121277057214583\n",
      "k =  13 , price =  0.28218031933606585 ,  3.518288974581503\n",
      "------> Accuracy 10**(-3) for k =  13\n",
      "k =  14 , price =  0.28218031933606585 ,  3.518288974581503\n",
      "k =  15 , price =  0.28213009848320164 ,  3.9025378259070753\n",
      "k =  16 , price =  0.28213009848320164 ,  3.9025378259070753\n",
      "k =  17 , price =  0.28210969626172566 ,  4.277078010721032\n",
      "k =  18 , price =  0.28210969626172566 ,  4.277078010721032\n",
      "k =  19 , price =  0.2821011953361111 ,  4.643973433421215\n",
      "k =  20 , price =  0.2821011953361111 ,  4.643973433421215\n",
      "k =  21 , price =  0.28209758244272487 ,  5.004686763772019\n",
      "k =  22 , price =  0.28209758244272487 ,  5.004686763772019\n",
      "k =  23 , price =  0.2820960223296705 ,  5.360293758953443\n",
      "k =  24 , price =  0.2820960223296705 ,  5.360293758953443\n",
      "k =  25 , price =  0.28209533978020396 ,  5.711609496271125\n",
      "k =  26 , price =  0.28209533978020396 ,  5.711609496271125\n",
      "k =  27 , price =  0.2820950378833183 ,  6.0592667954846\n",
      "k =  28 , price =  0.2820950378833183 ,  6.0592667954846\n",
      "k =  29 , price =  0.28209490310793534 ,  6.403767032228874\n",
      "k =  30 , price =  0.28209490310793534 ,  6.403767032228874\n",
      "k =  31 , price =  0.2820948424589974 ,  6.7455145952089035\n",
      "k =  32 , price =  0.2820948424589974 ,  6.7455145952089035\n",
      "k =  33 , price =  0.28209481497741534 ,  7.084840873160923\n",
      "k =  34 , price =  0.28209481497741534 ,  7.084840873160923\n",
      "k =  35 , price =  0.2820948024485528 ,  7.422040421048261\n",
      "k =  36 , price =  0.2820948024485528 ,  7.422040421048261\n",
      "k =  37 , price =  0.28209479670659837 ,  7.757308583587904\n",
      "k =  38 , price =  0.28209479670659837 ,  7.757308583587904\n",
      "k =  39 , price =  0.28209479406093424 ,  8.091118250278955\n",
      "k =  40 , price =  0.28209479406093424 ,  8.091118250278955\n",
      "k =  41 , price =  0.2820947928405556 ,  8.422361946402265\n",
      "k =  42 , price =  0.2820947928405556 ,  8.422361946402265\n",
      "k =  43 , price =  0.28209479228094936 ,  8.745326107544825\n",
      "k =  44 , price =  0.28209479228094936 ,  8.745326107544825\n",
      "k =  45 , price =  0.28209479201916987 ,  9.06071215932771\n",
      "k =  46 , price =  0.28209479201916987 ,  9.06071215932771\n",
      "k =  47 , price =  0.2820947919220873 ,  9.279520001158135\n",
      "k =  48 , price =  0.2820947919220873 ,  9.279520001158135\n",
      "k =  49 , price =  0.28209479187402586 ,  9.449753986605405\n",
      "k =  50 , price =  0.28209479187402586 ,  9.449753986605405\n",
      "k =  51 , price =  0.28209479211139077 ,  8.92210504020449\n",
      "k =  52 , price =  0.28209479211139077 ,  8.92210504020449\n",
      "k =  53 , price =  0.2820947921427427 ,  8.883528148930314\n",
      "k =  54 , price =  0.2820947921427427 ,  8.883528148930314\n",
      "k =  55 , price =  0.28209479246748576 ,  8.609281214956578\n",
      "k =  56 , price =  0.28209479246748576 ,  8.609281214956578\n",
      "k =  57 , price =  0.28209479185721753 ,  9.52954474574209\n",
      "k =  58 , price =  0.28209479185721753 ,  9.52954474574209\n",
      "k =  59 , price =  0.282094786503739 ,  7.7285729850475455\n",
      "k =  60 , price =  0.282094786503739 ,  7.7285729850475455\n",
      "k =  61 , price =  0.2820947991095571 ,  7.584954751858925\n",
      "k =  62 , price =  0.2820947991095571 ,  7.584954751858925\n",
      "k =  63 , price =  0.28209479737796184 ,  7.7018904551303855\n",
      "k =  64 , price =  0.28209479737796184 ,  7.7018904551303855\n",
      "k =  65 , price =  0.28209476398883276 ,  7.006583957623205\n",
      "k =  66 , price =  0.28209476398883276 ,  7.006583957623205\n",
      "k =  67 , price =  0.2820944852053316 ,  5.963867473116668\n",
      "k =  68 , price =  0.2820944852053316 ,  5.963867473116668\n",
      "k =  69 , price =  0.28209409549378595 ,  5.60761108983754\n",
      "k =  70 , price =  0.28209409549378595 ,  5.60761108983754\n",
      "k =  71 , price =  0.28209262538308433 ,  5.114658266536524\n",
      "k =  72 , price =  0.28209262538308433 ,  5.114658266536524\n",
      "k =  73 , price =  0.28208957535068935 ,  4.733022251158132\n",
      "k =  74 , price =  0.28208957535068935 ,  4.733022251158132\n",
      "k =  75 , price =  0.2820904502878962 ,  4.812756664905011\n",
      "k =  76 , price =  0.2820904502878962 ,  4.812756664905011\n",
      "k =  77 , price =  0.2820808123358615 ,  4.30490535517632\n",
      "k =  78 , price =  0.2820808123358615 ,  4.30490535517632\n",
      "k =  79 , price =  0.28214288286791694 ,  3.768330410906592\n",
      "k =  80 , price =  0.28214288286791694 ,  3.768330410906592\n",
      "k =  81 , price =  0.28224642865197225 ,  3.2695902334140508\n",
      "k =  82 , price =  0.28224642865197225 ,  3.2695902334140508\n",
      "k =  83 , price =  0.2821754071015587 ,  3.5439774443698187\n",
      "k =  84 , price =  0.2821754071015587 ,  3.5439774443698187\n",
      "k =  85 , price =  0.28282735630320355 ,  2.5855491816309226\n",
      "k =  86 , price =  0.28282735630320355 ,  2.5855491816309226\n",
      "k =  87 , price =  0.28328853055775155 ,  2.3734857639205167\n",
      "k =  88 , price =  0.28328853055775155 ,  2.3734857639205167\n",
      "k =  89 , price =  0.27902511982532147 ,  1.963303102461009\n",
      "k =  90 , price =  0.27902511982532147 ,  1.963303102461009\n",
      "k =  91 , price =  0.2806076690602096 ,  2.2780482610875805\n",
      "k =  92 , price =  0.2806076690602096 ,  2.2780482610875805\n",
      "k =  93 , price =  0.27495548354700927 ,  1.5967389357377855\n",
      "k =  94 , price =  0.27495548354700927 ,  1.5967389357377855\n",
      "k =  95 , price =  0.2754258686249883 ,  1.626339355249468\n",
      "k =  96 , price =  0.2754258686249883 ,  1.626339355249468\n",
      "k =  97 , price =  0.3863703638279651 ,  0.4322124869321058\n",
      "k =  98 , price =  0.3863703638279651 ,  0.4322124869321058\n",
      "k =  99 , price =  0.4558045430668716 ,  0.21057086949653878\n",
      "k =  100 , price =  0.4558045430668716 ,  0.21057086949653878\n",
      "k =  101 , price =  1.3205954887799498 ,  -0.566011724365834\n",
      "k =  102 , price =  1.3205954887799498 ,  -0.566011724365834\n",
      "k =  103 , price =  2.825762651781412 ,  -0.955065334591571\n",
      "k =  104 , price =  2.825762651781412 ,  -0.955065334591571\n",
      "k =  105 , price =  -1.4692383704926817 ,  -0.7929737033204097\n",
      "k =  106 , price =  -1.4692383704926817 ,  -0.7929737033204097\n",
      "k =  107 , price =  -23.84144403276836 ,  -1.9320459493779065\n",
      "k =  108 , price =  -23.84144403276836 ,  -1.9320459493779065\n",
      "k =  109 , price =  -7.377666407356546 ,  -1.4338201622811788\n",
      "k =  110 , price =  -7.377666407356546 ,  -1.4338201622811788\n",
      "k =  111 , price =  53.230145597644906 ,  -2.273454908922241\n",
      "k =  112 , price =  53.230145597644906 ,  -2.273454908922241\n",
      "k =  113 , price =  134.7258694203655 ,  -2.6781456291836436\n",
      "k =  114 , price =  134.7258694203655 ,  -2.6781456291836436\n",
      "k =  115 , price =  500.6508758586725 ,  -3.248895137442245\n",
      "k =  116 , price =  500.6508758586725 ,  -3.248895137442245\n",
      "k =  117 , price =  -1174.21233505093 ,  -3.619455893444542\n",
      "k =  118 , price =  -1174.21233505093 ,  -3.619455893444542\n",
      "k =  119 , price =  -4528.876136539401 ,  -4.205622425534277\n",
      "k =  120 , price =  -4528.876136539401 ,  -4.205622425534277\n",
      "k =  121 , price =  -4542.754427569054 ,  -4.20695116021815\n",
      "k =  122 , price =  -4542.754427569054 ,  -4.20695116021815\n",
      "k =  123 , price =  -3502.2687899271773 ,  -4.09398938540273\n",
      "k =  124 , price =  -3502.2687899271773 ,  -4.09398938540273\n",
      "k =  125 , price =  22045.45736678587 ,  -4.892918488081408\n",
      "k =  126 , price =  22045.45736678587 ,  -4.892918488081408\n",
      "k =  127 , price =  180456.6978667687 ,  -5.805977259164872\n",
      "k =  128 , price =  180456.6978667687 ,  -5.805977259164872\n",
      "k =  129 , price =  -242558.35741651763 ,  -5.9344216800527665\n",
      "k =  130 , price =  -242558.35741651763 ,  -5.9344216800527665\n",
      "k =  131 , price =  942465.3081486968 ,  -6.523870174948698\n",
      "k =  132 , price =  942465.3081486968 ,  -6.523870174948698\n",
      "k =  133 , price =  1890847.8711529858 ,  -6.826261456150327\n",
      "k =  134 , price =  1890847.8711529858 ,  -6.826261456150327\n",
      "k =  135 , price =  3254729.601525013 ,  -7.0621198081822545\n",
      "k =  136 , price =  3254729.601525013 ,  -7.0621198081822545\n",
      "k =  137 , price =  3963895.58057081 ,  -7.147727106609694\n",
      "k =  138 , price =  3963895.58057081 ,  -7.147727106609694\n",
      "k =  139 , price =  22552725.37135532 ,  -7.9028039580354\n",
      "k =  140 , price =  22552725.37135532 ,  -7.9028039580354\n",
      "k =  141 , price =  29504186.248827115 ,  -8.019488568778534\n",
      "k =  142 , price =  29504186.248827115 ,  -8.019488568778534\n",
      "k =  143 , price =  367287529.33870345 ,  -9.114611114497787\n",
      "k =  144 , price =  367287529.33870345 ,  -9.114611114497787\n",
      "k =  145 , price =  -146927762.71514374 ,  -8.716708798443062\n",
      "k =  146 , price =  -146927762.71514374 ,  -8.716708798443062\n",
      "k =  147 , price =  363418378.75140935 ,  -9.110011818290673\n",
      "k =  148 , price =  363418378.75140935 ,  -9.110011818290673\n",
      "k =  149 , price =  -3337856704.0607333 ,  -10.073072620301248\n"
     ]
    },
    {
     "name": "stdout",
     "output_type": "stream",
     "text": [
      "k =  150 , price =  -3337856704.0607333 ,  -10.073072620301248\n"
     ]
    },
    {
     "data": {
      "image/png": "[encoded data removed]",
      "text/plain": [
       "<Figure size 432x288 with 1 Axes>"
      ]
     },
     "metadata": {
      "needs_background": "light"
     },
     "output_type": "display_data"
    }
   ],
   "source": [
    "# We now calculate the option price via Hermite series Eq. (4.2)\n",
    "# We calculate the accuracy accordingly to Eq. (5.2) \n",
    "# and we check when the series reaches the same accuracy of the MC simulations\n",
    "\n",
    "Hprice = np.ones(N+1)*(scale*norm.pdf(ratio)+(mean-K)*(1-norm.cdf(ratio)))*np.exp(-r*(T-t))\n",
    "\n",
    "notachieved = 1\n",
    "best_n = -10\n",
    "best = 0\n",
    "print('k = ', 1, ', price = ', Hprice[0])\n",
    "if (-np.log10(abs(price_exact - Hprice[0])/price_exact) > accuracy_MC) and notachieved:\n",
    "    notachieved = 0\n",
    "    best = Hprice[0]\n",
    "    best_n = 1\n",
    "    print('------> Accuracy 10**(-3) for k = ', 1)\n",
    "\n",
    "for k in range(2,N+1):\n",
    "    v_k = hermite(k).c[::-1]\n",
    "    Hprice[k:] += scale*norm.pdf(ratio)*(hermite(k-2)(ratio)/float(math.factorial(k))*v_k.dot(E_N[:(k+1)]))*np.exp(-r*(T-t))\n",
    "    print('k = ', k, ', price = ', Hprice[k-1], ', ', -np.log10(abs(price_exact-Hprice[k-1])/price_exact))\n",
    "    plt.plot(k, Hprice[k-1], 'k.')\n",
    "    if (-np.log10(abs(price_exact-Hprice[k-1])/price_exact) > accuracy_MC) and notachieved:\n",
    "        notachieved = 0\n",
    "        best = Hprice[k-1]\n",
    "        best_n = k\n",
    "        print('------> Accuracy 10**(-3) for k = ', k)\n",
    "    if not notachieved and (k == best_n+15):\n",
    "        not_casual_bump = 1\n",
    "        for j in range(best_n, k):\n",
    "            not_casual_bump = not_casual_bump*(-np.log10(abs(price_exact-Hprice[j-1])/price_exact)>accuracy_MC)\n",
    "        if not not_casual_bump: notachieved = 1\n",
    "    \n",
    "plt.hlines(y = price_exact, xmin=0, xmax = N+1, colors ='red')\n",
    "s = \"best_price = {} \\nexact_price = {}\\nn = {}\"\n",
    "plt.text(x = N, y = price_exact, s = s.format(best, price_exact, best_n));  \n",
    "plt.plot(best_n, best, 'ro');"
   ]
  },
  {
   "cell_type": "code",
   "execution_count": 10,
   "metadata": {
    "scrolled": true
   },
   "outputs": [
    {
     "data": {
      "image/png": "[encoded data removed]",
      "text/plain": [
       "<Figure size 432x432 with 1 Axes>"
      ]
     },
     "metadata": {
      "needs_background": "light"
     },
     "output_type": "display_data"
    }
   ],
   "source": [
    "# Plots\n",
    "range_N = np.arange(0,N+1,2)\n",
    "\n",
    "f = plt.figure(figsize = (6,6))\n",
    "ax = plt.axes()\n",
    "plt.bar(range_N, -np.log10(np.abs(Hprice[range_N]-price_exact)/price_exact), alpha=0.9, color='black', width=0.6);\n",
    "plt.bar(best_n, -np.log10(np.abs(Hprice[best_n-1]-price_exact)/price_exact), alpha=0.9, color='red', width=0.8);\n",
    "plt.hlines(y = 0, xmin = 1, xmax = N+0.5,linestyle = 'solid', linewidth = 1, color='black');\n",
    "plt.hlines(y = accuracy_MC, xmin = 1, xmax = N+0.5,linestyle = 'dashed', linewidth = 2, color='red');\n",
    "plt.xlim([1.,N+0.5]);\n",
    "plt.ylim([0, 10])\n",
    "plt.xlabel('N', fontsize=15)\n",
    "plt.yticks(np.arange(0,11),np.arange(0,11), fontsize=15)\n",
    "plt.xticks(range_N[::5], range_N[::5], fontsize=10);\n",
    "#f.savefig('Plots_BM2/plot_BM2_10_06.pdf', bbox_inches = 'tight', pad_inches = 0.01)"
   ]
  },
  {
   "cell_type": "code",
   "execution_count": null,
   "metadata": {},
   "outputs": [],
   "source": []
  },
  {
   "cell_type": "code",
   "execution_count": null,
   "metadata": {},
   "outputs": [],
   "source": []
  }
 ],
 "metadata": {
  "kernelspec": {
   "display_name": "Python 3 (ipykernel)",
   "language": "python",
   "name": "python3"
  },
  "language_info": {
   "codemirror_mode": {
    "name": "ipython",
    "version": 3
   },
   "file_extension": ".py",
   "mimetype": "text/x-python",
   "name": "python",
   "nbconvert_exporter": "python",
   "pygments_lexer": "ipython3",
   "version": "3.9.7"
  }
 },
 "nbformat": 4,
 "nbformat_minor": 2
}

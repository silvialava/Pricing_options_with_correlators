{
 "cells": [
  {
   "cell_type": "code",
   "execution_count": null,
   "metadata": {},
   "outputs": [],
   "source": [
    "# This notebook contains the code for the experiments in Section 6"
   ]
  },
  {
   "cell_type": "code",
   "execution_count": 1,
   "metadata": {},
   "outputs": [],
   "source": [
    "%run Correlators_tools.ipynb"
   ]
  },
  {
   "cell_type": "markdown",
   "metadata": {},
   "source": [
    "### Model characteristics"
   ]
  },
  {
   "cell_type": "code",
   "execution_count": 2,
   "metadata": {},
   "outputs": [
    {
     "name": "stdout",
     "output_type": "stream",
     "text": [
      "b1, b0, sigma2 =  0.2 , 0 , 0.06\n"
     ]
    }
   ],
   "source": [
    "m = 0 # number of polynomials -1 (i.e. the total number is m+1)\n",
    "\n",
    "t = 0\n",
    "T = 2.0\n",
    "time_sequence = np.linspace(t, T, m+2)[1:]\n",
    "\n",
    "b1 = 0.2\n",
    "b0 = 0\n",
    "sigma2 = 0.06\n",
    "print('b1, b0, sigma2 = ', b1, ',', b0,',', sigma2)\n",
    "\n",
    "polyp_coeff_vector = np.array([b0, b1, 0, 0, sigma2])\n",
    "\n",
    "initial_state = 2.0\n",
    "r = b1\n",
    "\n",
    "Y = poly_process_sparse(polyp_coeff_vector)"
   ]
  },
  {
   "cell_type": "code",
   "execution_count": 4,
   "metadata": {},
   "outputs": [
    {
     "name": "stdout",
     "output_type": "stream",
     "text": [
      "mean =  2.9836493952825407\n",
      "std =  1.0653627766049076\n",
      "cv =  0.3570670127292291\n"
     ]
    }
   ],
   "source": [
    "order = 1\n",
    "mean = (e_n_i(order+1,order+1).transpose()).dot(Y.exp_generator_matrix_scipy(order, t=T)).dot(H_n_x(order, initial_state))\n",
    "mean = mean[0,0]\n",
    "# initial_state*np.exp(b1*(T-t))\n",
    "\n",
    "order = 2\n",
    "std = (e_n_i(order+1,order+1).transpose()).dot(Y.exp_generator_matrix_scipy(order, t=T)).dot(H_n_x(order, initial_state))\n",
    "std = np.sqrt(std[0,0]-mean**2)\n",
    "# np.sqrt(initial_state**2*np.exp(b1*2*(T-t))*(np.exp(sigma2*(T-t))-1))\n",
    "\n",
    "cv = std/mean # coefficient of variation\n",
    "print('mean = ', mean)\n",
    "print('std = ', std)\n",
    "print('cv = ', cv)"
   ]
  },
  {
   "cell_type": "markdown",
   "metadata": {},
   "source": [
    "## PRICING"
   ]
  },
  {
   "cell_type": "code",
   "execution_count": 5,
   "metadata": {},
   "outputs": [],
   "source": [
    "# Preliminary calculations for the Hermite series\n",
    "# This does not depend on the strike price\n",
    "\n",
    "N = 100 # truncation number\n",
    "expG_N = lambda t: Y.exp_generator_matrix_scipy(n = N*(m+1), t=t)\n",
    "#E_matrix = mE_n_matrix(N, m)\n",
    "#D_matrix = mD_n_matrix(N, m)"
   ]
  },
  {
   "cell_type": "code",
   "execution_count": 6,
   "metadata": {
    "scrolled": true
   },
   "outputs": [
    {
     "name": "stdout",
     "output_type": "stream",
     "text": [
      "----------------- n =  1\n",
      "----------------- n =  2\n"
     ]
    },
    {
     "name": "stderr",
     "output_type": "stream",
     "text": [
      "/opt/homebrew/lib/python3.9/site-packages/scipy/sparse/_index.py:82: SparseEfficiencyWarning: Changing the sparsity structure of a csc_matrix is expensive. lil_matrix is more efficient.\n",
      "  self._set_intXint(row, col, x.flat[0])\n"
     ]
    },
    {
     "name": "stdout",
     "output_type": "stream",
     "text": [
      "----------------- n =  3\n",
      "----------------- n =  4\n",
      "----------------- n =  5\n",
      "----------------- n =  6\n",
      "----------------- n =  7\n",
      "----------------- n =  8\n",
      "----------------- n =  9\n",
      "----------------- n =  10\n",
      "----------------- n =  11\n",
      "----------------- n =  12\n",
      "----------------- n =  13\n",
      "----------------- n =  14\n",
      "----------------- n =  15\n",
      "----------------- n =  16\n",
      "----------------- n =  17\n",
      "----------------- n =  18\n",
      "----------------- n =  19\n",
      "----------------- n =  20\n",
      "----------------- n =  21\n",
      "----------------- n =  22\n",
      "----------------- n =  23\n",
      "----------------- n =  24\n",
      "----------------- n =  25\n",
      "----------------- n =  26\n",
      "----------------- n =  27\n",
      "----------------- n =  28\n",
      "----------------- n =  29\n",
      "----------------- n =  30\n",
      "----------------- n =  31\n",
      "----------------- n =  32\n",
      "----------------- n =  33\n",
      "----------------- n =  34\n",
      "----------------- n =  35\n",
      "----------------- n =  36\n",
      "----------------- n =  37\n",
      "----------------- n =  38\n",
      "----------------- n =  39\n",
      "----------------- n =  40\n",
      "----------------- n =  41\n",
      "----------------- n =  42\n",
      "----------------- n =  43\n",
      "----------------- n =  44\n",
      "----------------- n =  45\n",
      "----------------- n =  46\n",
      "----------------- n =  47\n",
      "----------------- n =  48\n",
      "----------------- n =  49\n",
      "----------------- n =  50\n",
      "----------------- n =  51\n",
      "----------------- n =  52\n",
      "----------------- n =  53\n",
      "----------------- n =  54\n",
      "----------------- n =  55\n",
      "----------------- n =  56\n",
      "----------------- n =  57\n",
      "----------------- n =  58\n",
      "----------------- n =  59\n",
      "----------------- n =  60\n",
      "----------------- n =  61\n",
      "----------------- n =  62\n",
      "----------------- n =  63\n",
      "----------------- n =  64\n",
      "----------------- n =  65\n",
      "----------------- n =  66\n",
      "----------------- n =  67\n",
      "----------------- n =  68\n",
      "----------------- n =  69\n",
      "----------------- n =  70\n",
      "----------------- n =  71\n",
      "----------------- n =  72\n",
      "----------------- n =  73\n",
      "----------------- n =  74\n",
      "----------------- n =  75\n",
      "----------------- n =  76\n",
      "----------------- n =  77\n",
      "----------------- n =  78\n",
      "----------------- n =  79\n",
      "----------------- n =  80\n",
      "----------------- n =  81\n",
      "----------------- n =  82\n",
      "----------------- n =  83\n",
      "----------------- n =  84\n",
      "----------------- n =  85\n",
      "----------------- n =  86\n",
      "----------------- n =  87\n",
      "----------------- n =  88\n",
      "----------------- n =  89\n",
      "----------------- n =  90\n",
      "----------------- n =  91\n",
      "----------------- n =  92\n",
      "----------------- n =  93\n",
      "----------------- n =  94\n",
      "----------------- n =  95\n",
      "----------------- n =  96\n",
      "----------------- n =  97\n",
      "----------------- n =  98\n",
      "----------------- n =  99\n",
      "----------------- n =  100\n",
      "H_N =  [1.00000000e+000 2.98364940e+000 1.00371616e+001 3.80705700e+001\n",
      " 1.62810789e+002 7.85040966e+002 4.26792519e+003 2.61611369e+004\n",
      " 1.80805554e+005 1.40890678e+006 1.23785019e+007 1.22622242e+008\n",
      " 1.36957480e+009 1.72471603e+010 2.44886464e+011 3.92037218e+012\n",
      " 7.07628236e+013 1.44011889e+015 3.30450855e+016 8.54930377e+017\n",
      " 2.49384786e+019 8.20208944e+020 3.04154596e+022 1.27168516e+024\n",
      " 5.99487543e+025 3.18636893e+027 1.90953355e+029 1.29024999e+031\n",
      " 9.82959841e+032 8.44331559e+034 8.17721861e+036 8.92922017e+038\n",
      " 1.09935205e+041 1.52607329e+043 2.38852245e+045 4.21500994e+047\n",
      " 8.38654758e+049 1.88140878e+052 4.75881096e+054 1.35715384e+057\n",
      " 4.36390254e+059 1.58210879e+062 6.46715074e+064 2.98060868e+067\n",
      " 1.54886040e+070 9.07475543e+072 5.99477545e+075 4.46504920e+078\n",
      " 3.74968612e+081 3.55041336e+084 3.79034081e+087 4.56239561e+090\n",
      " 6.19188610e+093 9.47476210e+096 1.63466592e+100 3.17983832e+103\n",
      " 6.97423228e+106 1.72465850e+110 4.80867205e+113 1.51168931e+117\n",
      " 5.35815487e+120 2.14132861e+124 9.64865362e+127 4.90191131e+131\n",
      " 2.80788632e+135 1.81346397e+139 1.32054644e+143 1.08421088e+147\n",
      " 1.00366594e+151 1.04756251e+155 1.23278132e+159 1.63571442e+163\n",
      " 2.44705796e+167 4.12758826e+171 7.84989446e+175 1.68324218e+180\n",
      " 4.06953447e+184 1.10932345e+189 3.40947096e+193 1.18149295e+198\n",
      " 4.61626372e+202 2.03359950e+207 1.01007955e+212 5.65667294e+216\n",
      " 3.57175694e+221 2.54283431e+226 2.04112484e+231 1.84729566e+236\n",
      " 1.88503140e+241 2.16878303e+246 2.81338366e+251 4.11487980e+256\n",
      " 6.78579421e+261 1.26171002e+267 2.64504923e+272 6.25206240e+277\n",
      " 1.66620405e+283 5.00666353e+288 1.69622697e+294 6.47940102e+299\n",
      " 2.79062251e+305]\n"
     ]
    }
   ],
   "source": [
    "H_N = np.zeros(N+1) \n",
    "H_N[0] = 1\n",
    "for n in range(1,N+1):\n",
    "    print('----------------- n = ', n)\n",
    "    H_N_n = 0\n",
    "    index_list = multi_index(m, n)\n",
    "    for i in index_list:\n",
    "        coeff = multi_coeff(i)\n",
    "        max_power = np.max(i)\n",
    "        non_zero_count = np.count_nonzero(i)\n",
    "        non_zero_position = np.nonzero(i)\n",
    "        vectors_list = coeff_vectors_list(i[non_zero_position], max_power)\n",
    "        #correlator = Y.correlator_formula(max_power, non_zero_count-1, time_sequence[non_zero_position], vectors_list, initial_state)\n",
    "        expG_n = lambda t: csr(expG_N(t).toarray()[:(max_power*non_zero_count+1), :(max_power*non_zero_count+1)])\n",
    "        correlator = Y.correlator_formula_2(expG_n, max_power, non_zero_count-1, time_sequence[non_zero_position], vectors_list, initial_state)\n",
    "        #correlator = Y.correlator_formula_3(expG_n, E_matrix[max_power-1][:non_zero_count], D_matrix[max_power-1][:non_zero_count], max_power, non_zero_count-1, time_sequence[non_zero_position], vectors_list, initial_state)\n",
    "        #correlator = (e_n_i(max_power+1,max_power+1).transpose()).dot(Y.exp_generator_matrix_scipy(max_power, t=T)).dot(H_n_x(max_power, initial_state))\n",
    "        H_N_n += coeff*correlator\n",
    "    H_N[n] = H_N_n/float(((m+1)**n))\n",
    "\n",
    "print('H_N = ', H_N)"
   ]
  },
  {
   "cell_type": "code",
   "execution_count": 7,
   "metadata": {},
   "outputs": [],
   "source": [
    "# Strike price\n",
    "K = 2"
   ]
  },
  {
   "cell_type": "code",
   "execution_count": 8,
   "metadata": {},
   "outputs": [
    {
     "name": "stdout",
     "output_type": "stream",
     "text": [
      "price_exact =  0.6939085434029806\n"
     ]
    }
   ],
   "source": [
    "# CLOSED FORMULA #only for m = 0\n",
    "d1 = (np.log(initial_state/K)+(b1+sigma2/2)*(T-t))/np.sqrt(sigma2*(T-t))\n",
    "d2 = d1- np.sqrt(sigma2*(T-t))\n",
    "price_exact = initial_state*norm.cdf(d1)-K*norm.cdf(d2)*np.exp(-r*(T-t))\n",
    "print('price_exact = ', price_exact)"
   ]
  },
  {
   "cell_type": "code",
   "execution_count": 9,
   "metadata": {
    "scrolled": true
   },
   "outputs": [
    {
     "name": "stdout",
     "output_type": "stream",
     "text": [
      "0\n",
      "1\n",
      "2\n",
      "3\n",
      "4\n",
      "5\n",
      "6\n",
      "7\n",
      "8\n",
      "9\n",
      "10\n",
      "11\n",
      "12\n",
      "13\n",
      "14\n",
      "15\n",
      "16\n",
      "17\n",
      "18\n",
      "19\n",
      "20\n",
      "21\n",
      "22\n",
      "23\n",
      "24\n",
      "25\n",
      "26\n",
      "27\n",
      "28\n",
      "29\n",
      "30\n",
      "31\n",
      "32\n",
      "33\n",
      "34\n",
      "35\n",
      "36\n",
      "37\n",
      "38\n",
      "39\n",
      "40\n",
      "41\n",
      "42\n",
      "43\n",
      "44\n",
      "45\n",
      "46\n",
      "47\n",
      "48\n",
      "49\n",
      "50\n",
      "51\n",
      "52\n",
      "53\n",
      "54\n",
      "55\n",
      "56\n",
      "57\n",
      "58\n",
      "59\n",
      "60\n",
      "61\n",
      "62\n",
      "63\n",
      "64\n",
      "65\n",
      "66\n",
      "67\n",
      "68\n",
      "69\n",
      "70\n",
      "71\n",
      "72\n",
      "73\n",
      "74\n",
      "75\n",
      "76\n",
      "77\n",
      "78\n",
      "79\n",
      "80\n",
      "81\n",
      "82\n",
      "83\n",
      "84\n",
      "85\n",
      "86\n",
      "87\n",
      "88\n",
      "89\n",
      "90\n",
      "91\n",
      "92\n",
      "93\n",
      "94\n",
      "95\n",
      "96\n",
      "97\n",
      "98\n",
      "99\n",
      "MC_price_interval = [ 0.689937997943069 ,  0.6984797242168391 ]\n",
      "std =  0.004270863136885113\n"
     ]
    }
   ],
   "source": [
    "# MONTE CARLO SIMULATIONS\n",
    "\n",
    "N_mc = 100 # number of samples\n",
    "IT = 20000 # number of iterations for each sample\n",
    "\n",
    "price_MC = np.zeros(N_mc)\n",
    "time_MC = np.zeros(N_mc)\n",
    "for mc in range(N_mc):\n",
    "    print(mc)\n",
    "    exp = np.zeros(IT)\n",
    "    a = time.time()\n",
    "    for it in range(IT):\n",
    "        delta = (T-t)/(m+1)\n",
    "        Z = np.zeros(m+2)\n",
    "        Z[0] = initial_state\n",
    "        for k in np.arange(m+1):\n",
    "            Z[k+1] = Z[k]*np.exp((b1 - sigma2/2)*delta + np.sqrt(sigma2)*np.random.normal(loc=0, scale = np.sqrt(delta)))\n",
    "        Z = Z[1:]\n",
    "        exp[it] = max(np.sum(Z)/(m+1)-K,0)*np.exp(-r*(T-t))\n",
    "    price_MC[mc] = np.sum(exp)/IT\n",
    "    b = time.time()\n",
    "    time_MC[mc] = b-a\n",
    "    \n",
    "print('MC_price_interval = [', np.mean(price_MC) - np.std(price_MC), ', ', np.mean(price_MC) + np.std(price_MC), ']')\n",
    "print('std = ', np.std(price_MC))"
   ]
  },
  {
   "cell_type": "code",
   "execution_count": 10,
   "metadata": {},
   "outputs": [
    {
     "name": "stdout",
     "output_type": "stream",
     "text": [
      "accuracy_MC =  3.363721338635247\n"
     ]
    }
   ],
   "source": [
    "accuracy_MC = -np.log10(np.abs(np.mean(price_MC)-price_exact)/price_exact)\n",
    "print('accuracy_MC = ', accuracy_MC)"
   ]
  },
  {
   "cell_type": "markdown",
   "metadata": {},
   "source": [
    "### Pricing with generalized Hermite polynomials"
   ]
  },
  {
   "cell_type": "code",
   "execution_count": 11,
   "metadata": {},
   "outputs": [
    {
     "name": "stdout",
     "output_type": "stream",
     "text": [
      "min_scale =  0.7533252437610591\n",
      "K =  2\n",
      "drift =  2.9836493952825407\n",
      "scale =  1.5066504875221183\n",
      "ratio =  -0.6528716536642014\n"
     ]
    }
   ],
   "source": [
    "# Parameters for the Hermite series \n",
    "min_scale = std/np.sqrt(2) #\\underline{b}_{\\sigma}\n",
    "print('min_scale = ', min_scale)\n",
    "\n",
    "drift = mean\n",
    "scale = min_scale*2\n",
    "ratio = (K-drift)/scale\n",
    "\n",
    "print('K = ', K)\n",
    "print('drift = ', drift)\n",
    "print('scale = ', scale)\n",
    "print('ratio = ', ratio)"
   ]
  },
  {
   "cell_type": "code",
   "execution_count": 12,
   "metadata": {
    "scrolled": false
   },
   "outputs": [
    {
     "name": "stdout",
     "output_type": "stream",
     "text": [
      "E_N =  [1.00000000e+000 0.00000000e+000 5.00000000e-001 3.94822249e-001\n",
      " 1.32412017e+000 3.23678312e+000 1.15384124e+001 4.62770835e+001\n",
      " 2.21812989e+002 1.23233162e+003 7.90989709e+003 5.82310316e+004\n",
      " 4.89351560e+005 4.67573884e+006 5.06381275e+007 6.20017370e+008\n",
      " 8.56534965e+009 1.33288441e+011 2.33335555e+012 4.59054551e+013\n",
      " 1.01413469e+015 2.51426375e+016 6.99222172e+017 2.18058103e+019\n",
      " 7.62419847e+020 2.98836754e+022 1.31304135e+024 6.46758234e+025\n",
      " 3.57159399e+027 2.21153853e+029 1.53571133e+031 1.19615912e+033\n",
      " 1.04525615e+035 1.02496042e+037 1.12808606e+039 1.39389664e+041\n",
      " 1.93408398e+043 3.01424998e+045 5.27768802e+047 1.03840729e+050\n",
      " 2.29639958e+052 5.70920510e+054 1.59603070e+057 5.01798255e+059\n",
      " 1.77467997e+062 7.06139173e+064 3.16163648e+067 1.59313519e+070\n",
      " 9.03599195e+072 5.76953543e+075 4.14765798e+078 3.35748070e+081\n",
      " 3.06069695e+084 3.14244404e+087 3.63409318e+090 4.73416696e+093\n",
      " 6.94776065e+096 1.14876681e+100 2.14009996e+103 4.49239938e+106\n",
      " 1.06264819e+110 2.83263189e+113 8.50943977e+116 2.88098442e+120\n",
      " 1.09932787e+124 4.72798077e+127 2.29192636e+131 1.25231962e+135\n",
      " 7.71313925e+138 5.35499953e+142 4.19092424e+146 3.69735556e+150\n",
      " 3.67715350e+154 4.12267201e+158 5.21073464e+162 7.42468978e+166\n",
      " 1.19267556e+171 2.15991136e+175 4.40984798e+179 1.01505469e+184\n",
      " 2.63412912e+188 7.70672361e+192 2.54208816e+197 9.45370900e+201\n",
      " 3.96375763e+206 1.87373165e+211 9.98631176e+215 6.00070207e+220\n",
      " 4.06536781e+225 3.10527390e+230 2.67425972e+235 2.59664177e+240\n",
      " 2.84266933e+245 3.50870987e+250 4.88288218e+255 7.66149431e+260\n",
      " 1.35537625e+266 2.70343566e+271 6.07970561e+276 1.54155817e+282\n",
      " 4.40705630e+287]\n"
     ]
    }
   ],
   "source": [
    "E_N = np.zeros(N+1) \n",
    "E_N[0] = 1\n",
    "for j in range(1, N+1):\n",
    "    E_N_j = 0\n",
    "    for i in range(j+1):\n",
    "        E_N_j += float(newton(j,i))*H_N[i]*((-drift)**(j-i))\n",
    "    E_N[j] = E_N_j/(scale**(j))    \n",
    "\n",
    "print('E_N = ', E_N)"
   ]
  },
  {
   "cell_type": "code",
   "execution_count": 13,
   "metadata": {},
   "outputs": [
    {
     "name": "stdout",
     "output_type": "stream",
     "text": [
      "k =  1 , price =  0.8155299309035403\n",
      "k =  2 , price =  0.8155299309035403 ,  0.7562922808648168\n",
      "k =  3 , price =  0.7341368186542264 ,  1.2367708215468407\n",
      "k =  4 , price =  0.7201497783382971 ,  1.4223179650972553\n",
      "k =  5 , price =  0.7098437100202009 ,  1.638945625764922\n",
      "k =  6 , price =  0.706600314453273 ,  1.7377800053941146\n",
      "k =  7 , price =  0.7063678975102131 ,  1.7458067054715256\n",
      "k =  8 , price =  0.6972677844295045 ,  2.315061068842053\n",
      "k =  9 , price =  0.698156641193878 ,  2.213107728942098\n",
      "k =  10 , price =  0.7091145660207234 ,  1.6592866024279491\n",
      "k =  11 , price =  0.7007812870902274 ,  2.004172086965902\n",
      "k =  12 , price =  0.6486085456073618 ,  1.185204053678218\n",
      "k =  13 , price =  0.7169394992365548 ,  1.478990272075981\n",
      "k =  14 , price =  0.9913564301856967 ,  0.36789134672889173\n",
      "k =  15 , price =  0.33560919531526223 ,  0.28705621657324176\n",
      "k =  16 , price =  -1.732669412460542 ,  -0.543692013394474\n",
      "k =  17 , price =  6.504770945811018 ,  -0.922938357180995\n",
      "k =  18 , price =  27.587643374475743 ,  -1.5883488839132296\n",
      "k =  19 , price =  -112.1644395906208 ,  -2.2112314548150627\n",
      "k =  20 , price =  -395.74963804110655 ,  -2.756879118124176\n",
      "k =  21 , price =  2859.9023412458046 ,  -3.614943581476611\n",
      "k =  22 , price =  7600.522137493721 ,  -4.039501541925669\n",
      "k =  23 , price =  -97831.51828602048 ,  -5.149179639401845\n",
      "k =  24 , price =  -177506.48528794502 ,  -5.40791368803007\n",
      "k =  25 , price =  4619540.340059585 ,  -6.823296464137642\n",
      "k =  26 , price =  3834548.998645168 ,  -6.742411978495731\n",
      "k =  27 , price =  -305842196.13694686 ,  -8.644195169954182\n",
      "k =  28 , price =  133681990.80952412 ,  -8.284770667691383\n",
      "k =  29 , price =  28760500795.088318 ,  -10.617494209404702\n",
      "k =  30 , price =  -62092831455.589386 ,  -10.951739229730475\n",
      "k =  31 , price =  -3883871124111.938 ,  -12.747962576015423\n",
      "k =  32 , price =  17748908953602.55 ,  -13.407869427059348\n",
      "k =  33 , price =  760294380547407.0 ,  -15.039679546003885\n",
      "k =  34 , price =  -6088647724548977.0 ,  -15.943218612922847\n",
      "k =  35 , price =  -2.1746236326810157e+17 ,  -17.496081868851014\n",
      "k =  36 , price =  2.8226163366289034e+18 ,  -18.609349616239616\n",
      "k =  37 , price =  9.146560706487637e+19 ,  -20.11995558661461\n",
      "k =  38 , price =  -1.853359168602072e+21 ,  -21.426657356281414\n",
      "k =  39 , price =  -5.684417709803828e+22 ,  -22.9133837492647\n",
      "k =  40 , price =  1.767580587507449e+24 ,  -24.406076988710296\n",
      "k =  41 , price =  5.235198342420782e+25 ,  -25.877630905590543\n",
      "k =  42 , price =  -2.487967854472475e+27 ,  -27.554542530241278\n",
      "k =  43 , price =  -7.1484088180257984e+28 ,  -29.012907147319723\n",
      "k =  44 , price =  5.22665064707749e+30 ,  -30.876921237968627\n",
      "k =  45 , price =  1.442700663801512e+32 ,  -32.31787399705942\n",
      "k =  46 , price =  -1.652564951821209e+34 ,  -34.37685630329048\n",
      "k =  47 , price =  -4.26415600085068e+35 ,  -35.78853085007954\n",
      "k =  48 , price =  7.9157788858170415e+37 ,  -38.05719141984869\n",
      "k =  49 , price =  1.805740912354549e+39 ,  -39.4153532033322\n",
      "k =  50 , price =  -5.774465839109555e+41 ,  -41.920209581910335\n",
      "k =  51 , price =  -1.0359960415487046e+43 ,  -43.17405586145324\n",
      "k =  52 , price =  6.442902538022153e+45 ,  -45.96777932725304\n",
      "k =  53 , price =  6.604972330293105e+46 ,  -46.97856876804012\n",
      "k =  54 , price =  -1.103449702807372e+50 ,  -50.20145030747934\n",
      "k =  55 , price =  1.718982052381019e+50 ,  -50.393969107753435\n",
      "k =  56 , price =  2.9095177990077787e+54 ,  -54.62251878378144\n",
      "k =  57 , price =  -5.616637352231391e+55 ,  -55.908174149260056\n",
      "k =  58 , price =  -1.1840667535368209e+59 ,  -59.232073952521546\n",
      "k =  59 , price =  5.391865118389899e+60 ,  -60.890436784898625\n",
      "k =  60 , price =  7.453039971666371e+63 ,  -64.03103121585934\n",
      "k =  61 , price =  -6.248900561260685e+65 ,  -65.95450137923788\n",
      "k =  62 , price =  -7.268724161834335e+68 ,  -69.02015595372929\n",
      "k =  63 , price =  1.0125172295266878e+71 ,  -71.16410018757584\n",
      "k =  64 , price =  1.0999731785839202e+74 ,  -74.20007986102345\n",
      "k =  65 , price =  -2.410122397651305e+76 ,  -76.54073686414799\n",
      "k =  66 , price =  -2.5859085991053893e+79 ,  -79.57131093579135\n",
      "k =  67 , price =  8.626057753867637e+81 ,  -82.09451012698513\n",
      "k =  68 , price =  9.452347495623172e+84 ,  -85.13423744461714\n",
      "k =  69 , price =  -4.703202010389997e+87 ,  -87.83109139826334\n",
      "k =  70 , price =  -5.3756091703311035e+90 ,  -90.88912545157856\n",
      "k =  71 , price =  3.9387399521170396e+93 ,  -93.75405507372342\n",
      "k =  72 , price =  4.757850816921942e+96 ,  -96.836108585993\n",
      "k =  73 , price =  -5.095029521146319e+99 ,  -99.86584447014096\n",
      "k =  74 , price =  -6.553444227994656e+102 ,  -102.975167373232\n",
      "k =  75 , price =  1.0221993781200626e+106 ,  -106.16823337784817\n",
      "k =  76 , price =  1.4040915246498202e+109 ,  -109.30609318331811\n",
      "k =  77 , price =  -3.1906012421594646e+112 ,  -112.66257029537995\n",
      "k =  78 , price =  -4.674443595077043e+115 ,  -115.82842768910695\n",
      "k =  79 , price =  1.5531746874878904e+119 ,  -119.34991806955841\n",
      "k =  80 , price =  2.413585761661581e+122 ,  -122.54136050060661\n",
      "k =  81 , price =  -1.1815197420892919e+126 ,  -126.23113874812594\n",
      "k =  82 , price =  -1.9268696506419783e+129 ,  -129.44355010183037\n",
      "k =  83 , price =  1.4068570502477695e+133 ,  -133.30694773676316\n",
      "k =  84 , price =  2.3664350245365754e+136 ,  -136.53279234993948\n",
      "k =  85 , price =  -2.625741799049625e+140 ,  -140.5779497831742\n",
      "k =  86 , price =  -4.432581081119938e+143 ,  -143.8053544539368\n",
      "k =  87 , price =  7.690700974121382e+147 ,  -148.04466369111114\n",
      "k =  88 , price =  1.2467354081067917e+151 ,  -151.25447205934452\n",
      "k =  89 , price =  -3.538685725992889e+155 ,  -155.70753975969131\n",
      "k =  90 , price =  -5.100612732579069e+158 ,  -158.86632011612747\n",
      "k =  91 , price =  2.5602041171816143e+163 ,  -163.5669723570949\n",
      "k =  92 , price =  2.79868591908021e+166 ,  -166.6056519281945\n",
      "k =  93 , price =  -2.914817486956596e+171 ,  -171.62330913177968\n",
      "k =  94 , price =  -1.4515460449153488e+174 ,  -174.3205285822106\n",
      "k =  95 , price =  5.22588754582205e+179 ,  -179.87685782549238\n",
      "k =  96 , price =  -2.3710691217926814e+182 ,  -182.53364198022862\n",
      "k =  97 , price =  -1.4763643651413732e+188 ,  -188.32789131957028\n",
      "k =  98 , price =  2.8269540527881773e+191 ,  -191.6100165152894\n",
      "k =  99 , price =  6.575875274019652e+196 ,  -196.97665133269976\n",
      "k =  100 , price =  -2.694786212354986e+200 ,  -200.58922208209796\n"
     ]
    },
    {
     "data": {
      "image/png": "[encoded data removed]",
      "text/plain": [
       "<Figure size 432x288 with 1 Axes>"
      ]
     },
     "metadata": {
      "needs_background": "light"
     },
     "output_type": "display_data"
    }
   ],
   "source": [
    "Hprice = np.ones(N+1)*(scale*norm.pdf(ratio)+(mean-K)*(1-norm.cdf(ratio)))*np.exp(-r*(T-t))\n",
    "notachieved = 1\n",
    "best_n = -10\n",
    "best = 0\n",
    "print('k = ', 1, ', price = ', Hprice[0])\n",
    "if (-np.log10(abs(price_exact-Hprice[0])/price_exact) > accuracy_MC) and notachieved:\n",
    "    notachieved = 0\n",
    "    best = price2[0]\n",
    "    best_n = 1\n",
    "    print('------> Accuracy 10**(-3) for k = ', 1)\n",
    "\n",
    "for k in range(2,N+1):\n",
    "    v_k = hermite(k).c[::-1]\n",
    "    Hprice[k:] += scale*norm.pdf(ratio)*(hermite(k-2)(ratio)/float(math.factorial(k))*v_k.dot(E_N[:(k+1)]))*np.exp(-r*(T-t))\n",
    "    print('k = ', k, ', price = ', Hprice[k-1], ', ', -np.log10(abs(price_exact-Hprice[k-1])/price_exact))\n",
    "    plt.plot(k, Hprice[k-1], 'k.')\n",
    "    if (-np.log10(abs(price_exact-Hprice[k-1])/price_exact) > accuracy_MC) and notachieved:\n",
    "        notachieved = 0\n",
    "        best = Hprice[k-1]\n",
    "        best_n = k\n",
    "        print('------> Accuracy 10**(-3) for k = ', k)\n",
    "    if not notachieved and (k == best_n+15):\n",
    "        not_casual_bump = 1\n",
    "        for j in range(best_n, k):\n",
    "            not_casual_bump = not_casual_bump*(-np.log10(abs(price_exact-Hprice[j-1])/price_exact)>accuracy_MC)\n",
    "        if not not_casual_bump: notachieved = 1\n",
    "    \n",
    "plt.hlines(y = price_exact, xmin=0, xmax = N+1, colors ='red')\n",
    "s = \"best_price = {} \\nexact_price = {}\\nn = {}\"\n",
    "plt.text(x = N, y = price_exact, s = s.format(best, price_exact, best_n));  \n",
    "plt.plot(best_n, best, 'ro');"
   ]
  },
  {
   "cell_type": "code",
   "execution_count": 14,
   "metadata": {},
   "outputs": [
    {
     "data": {
      "image/png": "[encoded data removed]",
      "text/plain": [
       "<Figure size 432x432 with 1 Axes>"
      ]
     },
     "metadata": {
      "needs_background": "light"
     },
     "output_type": "display_data"
    }
   ],
   "source": [
    "# plots\n",
    "range_N = np.arange(0,N+1,2)\n",
    "f = plt.figure(figsize = (6,6))\n",
    "ax = plt.axes()\n",
    "plt.bar(range_N, -np.log10(np.abs(Hprice[range_N]-price_exact)/price_exact), alpha=0.9, color='black', width=0.6);\n",
    "plt.bar(best_n-1, -np.log10(np.abs(Hprice[best_n-1]-price_exact)/price_exact), alpha=0.9, color='red', width=0.8);\n",
    "plt.hlines(y = 0, xmin = 1, xmax = N+0.5,linestyle = 'solid', linewidth = 1, color='black');\n",
    "plt.hlines(y = accuracy_MC, xmin = 1, xmax = N+0.5,linestyle = 'dashed', linewidth = 2, color='red');\n",
    "plt.xlim([1.,N+0.5]);\n",
    "plt.ylim([0, 10])\n",
    "plt.xlabel('N', fontsize=15)\n",
    "plt.yticks(np.arange(0,11),np.arange(0,11), fontsize=15)\n",
    "plt.xticks(range_N[::5], range_N[::5], fontsize=10);\n",
    "#ax.get_xticklabels()[int((best_n-1)/10)].set_color(\"red\")\n",
    "#f.savefig('Plots_BS2/plot_BS2_4e.pdf', bbox_inches = 'tight', pad_inches = 0.01)"
   ]
  },
  {
   "cell_type": "code",
   "execution_count": null,
   "metadata": {},
   "outputs": [],
   "source": []
  },
  {
   "cell_type": "code",
   "execution_count": null,
   "metadata": {},
   "outputs": [],
   "source": []
  }
 ],
 "metadata": {
  "kernelspec": {
   "display_name": "Python 3 (ipykernel)",
   "language": "python",
   "name": "python3"
  },
  "language_info": {
   "codemirror_mode": {
    "name": "ipython",
    "version": 3
   },
   "file_extension": ".py",
   "mimetype": "text/x-python",
   "name": "python",
   "nbconvert_exporter": "python",
   "pygments_lexer": "ipython3",
   "version": "3.9.7"
  }
 },
 "nbformat": 4,
 "nbformat_minor": 4
}

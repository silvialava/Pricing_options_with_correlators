{
 "cells": [
  {
   "cell_type": "code",
   "execution_count": null,
   "metadata": {},
   "outputs": [],
   "source": [
    "# This notebook contains the code for the experiments in Section 5.3 and 5.4"
   ]
  },
  {
   "cell_type": "code",
   "execution_count": 1,
   "metadata": {},
   "outputs": [],
   "source": [
    "%run Correlators_tools.ipynb"
   ]
  },
  {
   "cell_type": "markdown",
   "metadata": {},
   "source": [
    "### Model characteristics"
   ]
  },
  {
   "cell_type": "code",
   "execution_count": 2,
   "metadata": {},
   "outputs": [
    {
     "name": "stdout",
     "output_type": "stream",
     "text": [
      "b1, b0, sigma0 =  0.01 , -0.02 , 0.49006666488895684\n",
      "a, b, mu, delta  1.0 , 0 , 0 , 0.05\n"
     ]
    }
   ],
   "source": [
    "m = 0 # number of polynomials -1 (i.e. the total number is m+1)\n",
    "\n",
    "r = 0.02\n",
    "t = 0\n",
    "T = 2\n",
    "time_sequence = np.linspace(t, T, m+2)[1:]\n",
    "initial_state = 2.0\n",
    "\n",
    "# I choose the parameters so that mean = initial_state and std = np.sqrt(T)\n",
    "b1 = 0.01\n",
    "b0 = -initial_state*b1\n",
    "ts = np.append(t, time_sequence)\n",
    "var_sum = 0\n",
    "for j in range(m+1):\n",
    "    for k1 in range(j, m+1):\n",
    "        for k2 in range(j, m+1):\n",
    "            var_sum += (np.exp(b1*(ts[k1+1]+ts[k2+1]-2*ts[j]))-np.exp(b1*(ts[k1+1]+ts[k2+1]-2*ts[j+1])))\n",
    "sigma0 = 2*b1*(m+1)**2/var_sum\n",
    "polyp_coeff_vector = np.array([b0, b1, sigma0, 0, 0])\n",
    "\n",
    "# Lévy parameters (NIG)\n",
    "a = 1.0\n",
    "b = 0\n",
    "mu = 0\n",
    "delta = 1/(T-t)/10\n",
    "polyp_coeff_vector_levy = np.array([a, b, mu, delta]) \n",
    "\n",
    "Y = poly_process_sparse_levy(polyp_coeff_vector, polyp_coeff_vector_levy)\n",
    "\n",
    "print('b1, b0, sigma0 = ', b1, ',', b0,',', sigma0)\n",
    "print('a, b, mu, delta ', a, ',', b,',', mu, ',', delta)"
   ]
  },
  {
   "cell_type": "code",
   "execution_count": 3,
   "metadata": {},
   "outputs": [
    {
     "name": "stdout",
     "output_type": "stream",
     "text": [
      "mean =  2.0000000000000004\n",
      "std =  1.0025474286905582\n"
     ]
    }
   ],
   "source": [
    "order = 1\n",
    "mean = (e_n_i(order+1,order+1).transpose()).dot(Y.exp_generator_matrix_scipy(order, t=T)).dot(H_n_x(order, initial_state))\n",
    "mean = mean[0,0]\n",
    "order = 2\n",
    "std = (e_n_i(order+1,order+1).transpose()).dot(Y.exp_generator_matrix_scipy(order, t=T)).dot(H_n_x(order, initial_state))\n",
    "std = np.sqrt(std[0,0]-mean**2)\n",
    "            \n",
    "\n",
    "print('mean = ', mean)\n",
    "print('std = ', std)"
   ]
  },
  {
   "cell_type": "markdown",
   "metadata": {},
   "source": [
    "## PRICING"
   ]
  },
  {
   "cell_type": "raw",
   "metadata": {},
   "source": [
    "# moments check\n",
    "\n",
    "N = 50\n",
    "explode = False\n",
    "for k in range(2, N+1):\n",
    "    if (integrate.quad(lambda z: z**k*nig.pdf(z, a, b, loc=mu, scale=delta), a = -np.Inf, b = np.Inf)[0] == np.Inf): \n",
    "        explode = True\n",
    "        print('Exploded at k = ', k)\n",
    "        break\n",
    "    if (k == N and explode == False): \n",
    "        print('Not exploded')"
   ]
  },
  {
   "cell_type": "code",
   "execution_count": 5,
   "metadata": {},
   "outputs": [],
   "source": [
    "# Preliminary calculations for the Hermite series\n",
    "# This does not depend on the strike price\n",
    "\n",
    "N = 50 # truncation number\n",
    "expG_N = lambda t: Y.exp_generator_matrix_scipy(n = N*(m+1), t=t)\n",
    "#E_matrix = mE_n_matrix(N, m)\n",
    "#D_matrix = mD_n_matrix(N, m)"
   ]
  },
  {
   "cell_type": "code",
   "execution_count": 6,
   "metadata": {
    "scrolled": true
   },
   "outputs": [
    {
     "name": "stdout",
     "output_type": "stream",
     "text": [
      "----------------- n =  1\n",
      "----------------- n =  2\n",
      "----------------- n =  3\n",
      "----------------- n =  4\n",
      "----------------- n =  5\n",
      "----------------- n =  6\n",
      "----------------- n =  7\n",
      "----------------- n =  8\n",
      "----------------- n =  9\n",
      "----------------- n =  10\n",
      "----------------- n =  11\n",
      "----------------- n =  12\n",
      "----------------- n =  13\n",
      "----------------- n =  14\n",
      "----------------- n =  15\n",
      "----------------- n =  16\n",
      "----------------- n =  17\n",
      "----------------- n =  18\n",
      "----------------- n =  19\n",
      "----------------- n =  20\n",
      "----------------- n =  21\n",
      "----------------- n =  22\n",
      "----------------- n =  23\n",
      "----------------- n =  24\n",
      "----------------- n =  25\n",
      "----------------- n =  26\n",
      "----------------- n =  27\n",
      "----------------- n =  28\n",
      "----------------- n =  29\n",
      "----------------- n =  30\n",
      "----------------- n =  31\n",
      "----------------- n =  32\n",
      "----------------- n =  33\n",
      "----------------- n =  34\n",
      "----------------- n =  35\n",
      "----------------- n =  36\n",
      "----------------- n =  37\n",
      "----------------- n =  38\n",
      "----------------- n =  39\n",
      "----------------- n =  40\n",
      "----------------- n =  41\n",
      "----------------- n =  42\n",
      "----------------- n =  43\n",
      "----------------- n =  44\n",
      "----------------- n =  45\n",
      "----------------- n =  46\n",
      "----------------- n =  47\n",
      "----------------- n =  48\n",
      "----------------- n =  49\n",
      "----------------- n =  50\n",
      "H_N =  [1.00000000e+00 2.00000000e+00 5.00510135e+00 1.40306081e+01\n",
      " 4.31531966e+01 1.42715750e+02 5.02302092e+02 1.86528889e+03\n",
      " 7.26474764e+03 2.95285571e+04 1.24776696e+05 5.46362921e+05\n",
      " 2.47236573e+06 1.15350452e+07 5.53776254e+07 2.73085440e+08\n",
      " 1.38116192e+09 7.15449335e+09 3.79115122e+10 2.05278611e+11\n",
      " 1.13465734e+12 6.39648273e+12 3.67463606e+13 2.14958572e+14\n",
      " 1.27955639e+15 7.74547852e+15 4.76498687e+16 2.97754652e+17\n",
      " 1.88892180e+18 1.21595619e+19 7.93914452e+19 5.25529039e+20\n",
      " 3.52544031e+21 2.39585259e+22 1.64885524e+23 1.14877432e+24\n",
      " 8.09987762e+24 5.77806834e+25 4.16891359e+26 3.04145042e+27\n",
      " 2.24307348e+28 1.67187468e+29 1.25909600e+30 9.57879490e+30\n",
      " 7.60021588e+31 6.35221033e+32 3.85886010e+33 2.94656994e+34\n",
      " 2.33266025e+35 3.45241265e+36 1.98916216e+37]\n"
     ]
    }
   ],
   "source": [
    "H_N = np.zeros(N+1) \n",
    "H_N[0] = 1\n",
    "for n in range(1,N+1):\n",
    "    print('----------------- n = ', n)\n",
    "    H_N_n = 0\n",
    "    index_list = multi_index(m, n)\n",
    "    for i in index_list:\n",
    "        coeff = multi_coeff(i)\n",
    "        max_power = np.max(i)\n",
    "        non_zero_count = np.count_nonzero(i)\n",
    "        non_zero_position = np.nonzero(i)\n",
    "        #vectors_list = coeff_vectors_list(i[non_zero_position], max_power)\n",
    "        #expG_n = lambda t: csr(expG_N(t).toarray()[:(max_power*non_zero_count+1), :(max_power*non_zero_count+1)])\n",
    "        #correlator = Y.correlator_formula_2(expG_n, max_power, non_zero_count-1, time_sequence[non_zero_position], vectors_list, initial_state)\n",
    "        #correlator = Y.correlator_formula_3(expG_n, E_matrix[max_power-1][:non_zero_count], D_matrix[max_power-1][:non_zero_count], max_power, non_zero_count-1, time_sequence[non_zero_position], vectors_list, initial_state)\n",
    "        #correlator = (e_n_i(max_power+1,max_power+1).transpose()).dot(Y.exp_generator_matrix_scipy(max_power, t=T)).dot(H_n_x(max_power, initial_state))\n",
    "        vectors_list = coeff_vectors_list2(i[non_zero_position])\n",
    "        correlator = Y.recursive_moment_formula(non_zero_count-1, i[non_zero_position], time_sequence[non_zero_position], vectors_list, t).dot(H_n_x(np.sum(i[non_zero_position]), initial_state))   \n",
    "        H_N_n += coeff*correlator[0,0]\n",
    "    \n",
    "    H_N[n] = H_N_n/float(((m+1)**n))   \n",
    "    \n",
    "print('H_N = ', H_N)"
   ]
  },
  {
   "cell_type": "code",
   "execution_count": 7,
   "metadata": {},
   "outputs": [],
   "source": [
    "# Strike price\n",
    "K = 2.0"
   ]
  },
  {
   "cell_type": "code",
   "execution_count": 8,
   "metadata": {
    "scrolled": true
   },
   "outputs": [
    {
     "name": "stdout",
     "output_type": "stream",
     "text": [
      "0\n",
      "1\n",
      "2\n",
      "3\n",
      "4\n",
      "5\n",
      "6\n",
      "7\n",
      "8\n",
      "9\n",
      "10\n",
      "11\n",
      "12\n",
      "13\n",
      "14\n",
      "15\n",
      "16\n",
      "17\n",
      "18\n",
      "19\n",
      "20\n",
      "21\n",
      "22\n",
      "23\n",
      "24\n",
      "25\n",
      "26\n",
      "27\n",
      "28\n",
      "29\n",
      "30\n",
      "31\n",
      "32\n",
      "33\n",
      "34\n",
      "35\n",
      "36\n",
      "37\n",
      "38\n",
      "39\n",
      "40\n",
      "41\n",
      "42\n",
      "43\n",
      "44\n",
      "45\n",
      "46\n",
      "47\n",
      "48\n",
      "49\n",
      "50\n",
      "51\n",
      "52\n",
      "53\n",
      "54\n",
      "55\n",
      "56\n",
      "57\n",
      "58\n",
      "59\n",
      "60\n",
      "61\n",
      "62\n",
      "63\n",
      "64\n",
      "65\n",
      "66\n",
      "67\n",
      "68\n",
      "69\n",
      "70\n",
      "71\n",
      "72\n",
      "73\n",
      "74\n",
      "75\n",
      "76\n",
      "77\n",
      "78\n",
      "79\n",
      "80\n",
      "81\n",
      "82\n",
      "83\n",
      "84\n",
      "85\n",
      "86\n",
      "87\n",
      "88\n",
      "89\n",
      "90\n",
      "91\n",
      "92\n",
      "93\n",
      "94\n",
      "95\n",
      "96\n",
      "97\n",
      "98\n",
      "99\n",
      "MC_price_interval = [ 0.38116649848374634 ,  0.38920606816990083 ]\n",
      "std =  0.004019784843077271\n"
     ]
    }
   ],
   "source": [
    "# MONTE CARLO SIMULATIONS\n",
    "\n",
    "N_mc = 100 # number of samples\n",
    "IT = 20000 # number of iterations for each sample\n",
    "\n",
    "price_MC = np.zeros(N_mc)\n",
    "time_MC = np.zeros(N_mc)\n",
    "for mc in range(N_mc):\n",
    "    print(mc)\n",
    "    exp = np.zeros(IT)\n",
    "    at = time.time()\n",
    "    for it in range(IT):\n",
    "        Delta = (T-t)/(m+1)\n",
    "        Z = np.zeros(m+2)\n",
    "        Z[0] = initial_state\n",
    "        for k in np.arange(m+1):\n",
    "            Z[k+1] = Z[k]*np.exp(b1*Delta)+b0/b1*(np.exp(b1*Delta)-1) + np.random.normal(loc = 0, scale =  np.sqrt(sigma0*(np.exp(2*b1*Delta)-1)/2/b1))\n",
    "            Z[k+1] += nig.rvs(a=a, b=b, loc = mu, scale = delta*Delta, size = 1)\n",
    "        Z = Z[1:]\n",
    "        exp[it] = max(np.sum(Z)/(m+1)-K,0)*np.exp(-r*(T-t))\n",
    "    price_MC[mc] = np.sum(exp)/IT\n",
    "    bt = time.time()\n",
    "    time_MC[mc] = bt-at\n",
    "\n",
    "print('MC_price_interval = [', np.mean(price_MC) - np.std(price_MC), ', ', np.mean(price_MC) + np.std(price_MC), ']')\n",
    "print('std = ', np.std(price_MC))"
   ]
  },
  {
   "cell_type": "markdown",
   "metadata": {},
   "source": [
    "### Pricing with generalized Hermite polynomials"
   ]
  },
  {
   "cell_type": "code",
   "execution_count": 9,
   "metadata": {},
   "outputs": [
    {
     "name": "stdout",
     "output_type": "stream",
     "text": [
      "min_scale =  0.7089080852882303\n",
      "K =  2.0\n",
      "drift =  2.0000000000000004\n",
      "scale =  0.8506897023458764\n",
      "ratio =  -5.220343077216459e-16\n"
     ]
    }
   ],
   "source": [
    "# Parameters for the Hermite series \n",
    "min_scale = std/np.sqrt(2) #\\underline{b}_{\\sigma}\n",
    "print('min_scale = ', min_scale)\n",
    "\n",
    "drift = mean\n",
    "scale = min_scale*1.2\n",
    "ratio = (K-drift)/scale\n",
    "\n",
    "print('K = ', K)\n",
    "print('drift = ', drift)\n",
    "print('scale = ', scale)\n",
    "print('ratio = ', ratio)"
   ]
  },
  {
   "cell_type": "code",
   "execution_count": 10,
   "metadata": {
    "scrolled": false
   },
   "outputs": [
    {
     "name": "stdout",
     "output_type": "stream",
     "text": [
      "E_N =  [ 1.00000000e+00  0.00000000e+00  1.38888889e+00  1.44273541e-14\n",
      "  5.78718613e+00  4.46572892e-13  4.01908726e+01  1.12839703e-11\n",
      "  3.90775063e+02 -5.92520227e-10  4.88519841e+03 -1.37897758e-08\n",
      "  7.46447622e+04 -1.99699114e-06  1.34796567e+06 -1.73913051e-04\n",
      "  2.80878199e+07 -2.76163018e-02  6.63325666e+08 -2.57491780e+01\n",
      "  1.75086345e+10 -7.90046208e+03  5.10805589e+11 -1.74989162e+06\n",
      "  1.63222658e+13 -5.71387724e+08  5.66937429e+14 -1.23631894e+11\n",
      "  2.12687898e+16 -1.52300383e+13  8.57070543e+17 -1.15171375e+15\n",
      "  3.69174652e+19  8.09924821e+15  1.69134945e+21  2.40915884e+19\n",
      "  8.19445603e+22  4.67631231e+21  4.18036735e+24  5.05137527e+23\n",
      "  2.24989291e+26  3.33606370e+25  1.28411698e+28  1.37471081e+27\n",
      "  2.95898781e+33 -2.20074790e+35  5.83417322e+36  3.51893887e+37\n",
      " -8.58222416e+39  3.85800469e+41 -1.16942973e+43]\n"
     ]
    }
   ],
   "source": [
    "# We now calculate the moments of X (see Eq. (4.4))\n",
    "\n",
    "E_N = np.zeros(N+1) \n",
    "E_N[0] = 1\n",
    "for j in range(1, N+1):\n",
    "    E_N_j = 0\n",
    "    for i in range(j+1):\n",
    "        E_N_j += float(newton(j,i))*H_N[i]*((-drift)**(j-i))\n",
    "    E_N[j] = E_N_j/(scale**(j))\n",
    "    \n",
    "print('E_N = ', E_N)"
   ]
  },
  {
   "cell_type": "code",
   "execution_count": 11,
   "metadata": {
    "scrolled": true
   },
   "outputs": [
    {
     "name": "stdout",
     "output_type": "stream",
     "text": [
      "k =  1 , price =  0.32606896294979004\n",
      "k =  2 , price =  0.3894712613011382\n",
      "k =  3 , price =  0.3894712613011382\n",
      "k =  4 , price =  0.38330512332094996\n",
      "k =  5 , price =  0.38330512332094996\n",
      "k =  6 , price =  0.3845048948416063\n",
      "k =  7 , price =  0.3845048948416063\n",
      "k =  8 , price =  0.38421298715509095\n",
      "k =  9 , price =  0.38421298715509095\n",
      "k =  10 , price =  0.38429256038441995\n",
      "k =  11 , price =  0.38429256038441995\n",
      "k =  12 , price =  0.3842693109116833\n",
      "------> Accuracy 10**(-3) for k =  10\n",
      "k =  13 , price =  0.3842693109116833\n",
      "k =  14 , price =  0.38427643008074513\n",
      "k =  15 , price =  0.38427643008074513\n",
      "k =  16 , price =  0.38427417492645516\n",
      "k =  17 , price =  0.38427417492645516\n",
      "k =  18 , price =  0.38427490800281877\n",
      "k =  19 , price =  0.38427490800281877\n",
      "k =  20 , price =  0.3842746633451377\n",
      "k =  21 , price =  0.3842746633451377\n",
      "k =  22 , price =  0.3842747482790923\n",
      "k =  23 , price =  0.3842747482790923\n",
      "k =  24 , price =  0.38427461215937875\n",
      "k =  25 , price =  0.38427461215937875\n",
      "k =  26 , price =  0.38427518702754815\n",
      "k =  27 , price =  0.38427518702754815\n",
      "k =  28 , price =  0.38427944035437855\n",
      "k =  29 , price =  0.38427944035437855\n",
      "k =  30 , price =  0.38428630493017857\n",
      "k =  31 , price =  0.38428630493017857\n",
      "k =  32 , price =  0.3842885166595417\n",
      "k =  33 , price =  0.3842885166595417\n",
      "k =  34 , price =  0.38414356205168615\n",
      "k =  35 , price =  0.38414356205168615\n",
      "k =  36 , price =  0.3829756640650748\n",
      "k =  37 , price =  0.3829756640650748\n",
      "k =  38 , price =  0.3790379335244975\n",
      "k =  39 , price =  0.3790379335244975\n",
      "k =  40 , price =  0.3749964332925687\n",
      "k =  41 , price =  0.3749964332925686\n",
      "k =  42 , price =  0.39392979641354825\n",
      "k =  43 , price =  0.3939297964135481\n",
      "k =  44 , price =  -4757.726345428407\n",
      "k =  45 , price =  -4757.726345428583\n",
      "k =  46 , price =  87875.15669607237\n",
      "k =  47 , price =  87875.15669606782\n",
      "k =  48 , price =  9042872.789922997\n",
      "k =  49 , price =  9042872.789923066\n",
      "k =  50 , price =  36462741.23371948\n"
     ]
    },
    {
     "data": {
      "image/png": "[encoded data removed]",
      "text/plain": [
       "<Figure size 432x288 with 1 Axes>"
      ]
     },
     "metadata": {
      "needs_background": "light"
     },
     "output_type": "display_data"
    }
   ],
   "source": [
    "# We now calculate the option price via Hermite series Eq. (4.5)\n",
    "# We calculate the accuracy accordingly to Eq. (5.9) \n",
    "\n",
    "Hprice = np.ones(N+1)*(scale*norm.pdf(ratio)+(mean-K)*(1-norm.cdf(ratio)))*np.exp(-r*(T-t))\n",
    "notachieved = 1\n",
    "best_n = -10\n",
    "best = 0\n",
    "print('k = ', 1, ', price = ', Hprice[0])\n",
    "for k in range(2,N+1):\n",
    "    v_k = hermite(k).c[::-1]\n",
    "    Hprice[(k-1):] += scale*norm.pdf(ratio)*(hermite(k-2)(ratio)/float(math.factorial(k))*v_k.dot(E_N[:(k+1)]))*np.exp(-r*(T-t))\n",
    "    print('k = ', k, ', price = ', Hprice[k-1])\n",
    "    if (np.abs(Hprice[k-1]) < 5): plt.plot(k, Hprice[k-1], 'k.')\n",
    "    if (k>3):\n",
    "        if (-np.log10(abs((Hprice[k-3]-Hprice[k-1])/Hprice[k-3]))>4) and notachieved:\n",
    "            notachieved = 0\n",
    "            best = Hprice[k-3]\n",
    "            best_n = k-2\n",
    "            print('------> Accuracy 10**(-3) for k = ', k-2)"
   ]
  },
  {
   "cell_type": "code",
   "execution_count": 13,
   "metadata": {
    "scrolled": false
   },
   "outputs": [
    {
     "data": {
      "image/png": "[encoded data removed]",
      "text/plain": [
       "<Figure size 432x432 with 1 Axes>"
      ]
     },
     "metadata": {
      "needs_background": "light"
     },
     "output_type": "display_data"
    }
   ],
   "source": [
    "# Plots\n",
    "\n",
    "f = plt.figure(figsize = (6,6))\n",
    "mmin = 0\n",
    "mmax = 38\n",
    "mmin2 = 2\n",
    "mmax2 = 30\n",
    "\n",
    "plt.plot(np.arange(mmin+1, mmax+1, 2), Hprice[mmin:(mmax):2], 'ok')\n",
    "plt.hlines(y = np.mean(price_MC), xmin=mmin-0.5, xmax = mmax+1, colors ='red', linestyles='solid')\n",
    "plt.hlines(y = np.mean(price_MC)+1.96*np.std(price_MC)/np.sqrt(N_mc), xmin=mmin-0.5, xmax = mmax+1, colors ='red', linestyles='dashed')\n",
    "plt.hlines(y = np.mean(price_MC)-1.96*np.std(price_MC)/np.sqrt(N_mc), xmin=mmin-0.5, xmax = mmax+1, colors ='red', linestyles='dashed')\n",
    "plt.xlim([mmin-0.5,mmax+1]);\n",
    "plt.ylim([np.mean(price_MC)-100, np.mean(price_MC)+100])\n",
    "plt.xlabel('N', fontsize=15)\n",
    "plt.xticks(np.arange(mmin, mmax+1, 5), np.arange(mmin, mmax+1, 5), fontsize=10);\n",
    "plt.legend(['Option price','MC price', '95% MC CI'], fontsize=15);\n",
    "plt.axvline(x = mmin2, color='k', linestyle=':')\n",
    "plt.axvline(x = mmax2, color='k', linestyle=':')\n",
    "plt.plot(best_n+1, best, 'r*', markersize=12);\n",
    "#f.savefig('Plots_JD_corr/plot_JD_corr_20_12.pdf', bbox_inches = 'tight', pad_inches = 0.01)\n"
   ]
  },
  {
   "cell_type": "code",
   "execution_count": 14,
   "metadata": {},
   "outputs": [
    {
     "data": {
      "image/png": "[encoded data removed]",
      "text/plain": [
       "<Figure size 432x432 with 1 Axes>"
      ]
     },
     "metadata": {
      "needs_background": "light"
     },
     "output_type": "display_data"
    }
   ],
   "source": [
    "f = plt.figure(figsize = (6,6))\n",
    "plt.plot(np.arange(mmin2+1, mmax2+1, 2), Hprice[mmin2:(mmax2):2], 'ok')\n",
    "plt.hlines(y = np.mean(price_MC), xmin=mmin2-0.5, xmax = mmax2+1, colors ='red', linestyles='solid')\n",
    "plt.hlines(y = np.mean(price_MC)+1.96*np.std(price_MC)/np.sqrt(N_mc), xmin=mmin2-0.5, xmax = mmax2+1, colors ='red', linestyles='dashed')\n",
    "plt.hlines(y = np.mean(price_MC)-1.96*np.std(price_MC)/np.sqrt(N_mc), xmin=mmin2-0.5, xmax = mmax2+1, colors ='red', linestyles='dashed')\n",
    "plt.xlim([mmin2-0.5,mmax2+1]);\n",
    "plt.xlabel('N', fontsize=15)\n",
    "plt.xticks(np.arange(mmin2+1, mmax2+1, 2), np.arange(mmin2+1, mmax2+1, 2), fontsize=10);\n",
    "plt.legend(['Option price', 'MC price', '95% MC CI'], fontsize=15);\n",
    "plt.plot(best_n+1, best, 'r*', markersize=12, zorder=4);\n",
    "#f.savefig('Plots_JD_corr/plot_JD_corr_20_1_zoom2.pdf', bbox_inches = 'tight', pad_inches = 0.01)\n"
   ]
  },
  {
   "cell_type": "code",
   "execution_count": null,
   "metadata": {},
   "outputs": [],
   "source": []
  },
  {
   "cell_type": "code",
   "execution_count": null,
   "metadata": {},
   "outputs": [],
   "source": []
  }
 ],
 "metadata": {
  "kernelspec": {
   "display_name": "Python 3 (ipykernel)",
   "language": "python",
   "name": "python3"
  },
  "language_info": {
   "codemirror_mode": {
    "name": "ipython",
    "version": 3
   },
   "file_extension": ".py",
   "mimetype": "text/x-python",
   "name": "python",
   "nbconvert_exporter": "python",
   "pygments_lexer": "ipython3",
   "version": "3.9.7"
  }
 },
 "nbformat": 4,
 "nbformat_minor": 4
}

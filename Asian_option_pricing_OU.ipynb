{
 "cells": [
  {
   "cell_type": "code",
   "execution_count": null,
   "metadata": {},
   "outputs": [],
   "source": [
    "# This notebook contains the code for the experiments in Section 5.2 and 5.4"
   ]
  },
  {
   "cell_type": "code",
   "execution_count": 1,
   "metadata": {},
   "outputs": [],
   "source": [
    "%run Correlators_tools.ipynb"
   ]
  },
  {
   "cell_type": "markdown",
   "metadata": {},
   "source": [
    "### Model characteristics ###"
   ]
  },
  {
   "cell_type": "code",
   "execution_count": 2,
   "metadata": {},
   "outputs": [
    {
     "name": "stdout",
     "output_type": "stream",
     "text": [
      "b1, b0, sigma0 =  0.01 , -0.02 , 0.9801333297779137\n"
     ]
    }
   ],
   "source": [
    "m = 0 # number of polynomials -1 (i.e. the total number is m+1)\n",
    "\n",
    "r = 0.2\n",
    "t = 0\n",
    "T = 2.0\n",
    "time_sequence = np.linspace(t, T, m+2)[1:]\n",
    "initial_state = 2.0\n",
    "\n",
    "# I choose the parameters so that mean = initial_state and std = np.sqrt(T)\n",
    "b1 = 0.01\n",
    "b0 = -initial_state*b1\n",
    "ts = np.append(t, time_sequence)\n",
    "var_sum = 0\n",
    "for j in range(m+1):\n",
    "    for k1 in range(j, m+1):\n",
    "        for k2 in range(j, m+1):\n",
    "            var_sum += (np.exp(b1*(ts[k1+1]+ts[k2+1]-2*ts[j]))-np.exp(b1*(ts[k1+1]+ts[k2+1]-2*ts[j+1])))\n",
    "sigma0 = 2*b1*(m+1)**2/var_sum\n",
    "sigma0 = sigma0*2\n",
    "polyp_coeff_vector = np.array([b0, b1, sigma0, 0, 0])\n",
    "print('b1, b0, sigma0 = ', b1, ',', b0,',', sigma0)\n",
    "\n",
    "Y = poly_process_sparse(polyp_coeff_vector)"
   ]
  },
  {
   "cell_type": "code",
   "execution_count": 3,
   "metadata": {
    "scrolled": true
   },
   "outputs": [
    {
     "data": {
      "text/plain": [
       "[<matplotlib.lines.Line2D at 0x1429bd490>]"
      ]
     },
     "execution_count": 3,
     "metadata": {},
     "output_type": "execute_result"
    },
    {
     "data": {
      "image/png": "[encoded data removed]",
      "text/plain": [
       "<Figure size 432x288 with 1 Axes>"
      ]
     },
     "metadata": {
      "needs_background": "light"
     },
     "output_type": "display_data"
    }
   ],
   "source": [
    "Y.plot_poly_process_OU(initial_state, t, T, 100)"
   ]
  },
  {
   "cell_type": "code",
   "execution_count": 4,
   "metadata": {},
   "outputs": [
    {
     "name": "stdout",
     "output_type": "stream",
     "text": [
      "mean =  2.0\n",
      "std =  1.4142135623730951\n"
     ]
    }
   ],
   "source": [
    "order = 1\n",
    "#mean = (e_n_i(order+1,order+1).transpose()).dot(Y.exp_generator_matrix_scipy(order, t=T)).dot(H_n_x(order, initial_state)).item()\n",
    "mean = meanX(m, time_sequence)\n",
    "\n",
    "order = 2\n",
    "#std = (e_n_i(order+1,order+1).transpose()).dot(Y.exp_generator_matrix_scipy(order, t=T)).dot(H_n_x(order, initial_state)).item()-mean**2\n",
    "#std = np.sqrt(std)\n",
    "std = varX(m, b1, sigma0, time_sequence, t=0)\n",
    "\n",
    "print('mean = ', mean)\n",
    "print('std = ', std)"
   ]
  },
  {
   "cell_type": "markdown",
   "metadata": {},
   "source": [
    "## PRICING"
   ]
  },
  {
   "cell_type": "code",
   "execution_count": 5,
   "metadata": {},
   "outputs": [],
   "source": [
    "# Preliminary calculations for the Hermite series\n",
    "# This does not depend on the strike price\n",
    "\n",
    "N = 150 # truncation number\n",
    "expG_N = lambda t: Y.exp_generator_matrix_scipy(n = N*(m+1), t=t)\n",
    "#E_matrix = mE_n_matrix(N, m)\n",
    "#D_matrix = mD_n_matrix(N, m)"
   ]
  },
  {
   "cell_type": "code",
   "execution_count": 6,
   "metadata": {
    "scrolled": true
   },
   "outputs": [
    {
     "name": "stdout",
     "output_type": "stream",
     "text": [
      "----------------- n =  1\n",
      "----------------- n =  2\n",
      "----------------- n =  3\n",
      "----------------- n =  4\n",
      "----------------- n =  5\n",
      "----------------- n =  6\n",
      "----------------- n =  7\n",
      "----------------- n =  8\n",
      "----------------- n =  9\n",
      "----------------- n =  10\n",
      "----------------- n =  11\n",
      "----------------- n =  12\n",
      "----------------- n =  13\n",
      "----------------- n =  14\n",
      "----------------- n =  15\n",
      "----------------- n =  16\n",
      "----------------- n =  17\n",
      "----------------- n =  18\n",
      "----------------- n =  19\n",
      "----------------- n =  20\n",
      "----------------- n =  21\n",
      "----------------- n =  22\n",
      "----------------- n =  23\n",
      "----------------- n =  24\n",
      "----------------- n =  25\n",
      "----------------- n =  26\n",
      "----------------- n =  27\n",
      "----------------- n =  28\n",
      "----------------- n =  29\n",
      "----------------- n =  30\n",
      "----------------- n =  31\n",
      "----------------- n =  32\n",
      "----------------- n =  33\n",
      "----------------- n =  34\n",
      "----------------- n =  35\n",
      "----------------- n =  36\n",
      "----------------- n =  37\n",
      "----------------- n =  38\n",
      "----------------- n =  39\n",
      "----------------- n =  40\n",
      "----------------- n =  41\n",
      "----------------- n =  42\n",
      "----------------- n =  43\n",
      "----------------- n =  44\n",
      "----------------- n =  45\n",
      "----------------- n =  46\n",
      "----------------- n =  47\n",
      "----------------- n =  48\n",
      "----------------- n =  49\n",
      "----------------- n =  50\n",
      "----------------- n =  51\n",
      "----------------- n =  52\n",
      "----------------- n =  53\n",
      "----------------- n =  54\n",
      "----------------- n =  55\n",
      "----------------- n =  56\n",
      "----------------- n =  57\n",
      "----------------- n =  58\n",
      "----------------- n =  59\n",
      "----------------- n =  60\n",
      "----------------- n =  61\n",
      "----------------- n =  62\n",
      "----------------- n =  63\n",
      "----------------- n =  64\n",
      "----------------- n =  65\n",
      "----------------- n =  66\n",
      "----------------- n =  67\n",
      "----------------- n =  68\n",
      "----------------- n =  69\n",
      "----------------- n =  70\n",
      "----------------- n =  71\n",
      "----------------- n =  72\n",
      "----------------- n =  73\n",
      "----------------- n =  74\n",
      "----------------- n =  75\n",
      "----------------- n =  76\n",
      "----------------- n =  77\n",
      "----------------- n =  78\n",
      "----------------- n =  79\n",
      "----------------- n =  80\n",
      "----------------- n =  81\n",
      "----------------- n =  82\n",
      "----------------- n =  83\n",
      "----------------- n =  84\n",
      "----------------- n =  85\n",
      "----------------- n =  86\n",
      "----------------- n =  87\n",
      "----------------- n =  88\n",
      "----------------- n =  89\n",
      "----------------- n =  90\n",
      "----------------- n =  91\n",
      "----------------- n =  92\n",
      "----------------- n =  93\n",
      "----------------- n =  94\n",
      "----------------- n =  95\n",
      "----------------- n =  96\n",
      "----------------- n =  97\n",
      "----------------- n =  98\n",
      "----------------- n =  99\n",
      "----------------- n =  100\n",
      "----------------- n =  101\n",
      "----------------- n =  102\n",
      "----------------- n =  103\n",
      "----------------- n =  104\n",
      "----------------- n =  105\n",
      "----------------- n =  106\n",
      "----------------- n =  107\n",
      "----------------- n =  108\n",
      "----------------- n =  109\n",
      "----------------- n =  110\n",
      "----------------- n =  111\n",
      "----------------- n =  112\n",
      "----------------- n =  113\n",
      "----------------- n =  114\n",
      "----------------- n =  115\n",
      "----------------- n =  116\n",
      "----------------- n =  117\n",
      "----------------- n =  118\n",
      "----------------- n =  119\n",
      "----------------- n =  120\n",
      "----------------- n =  121\n",
      "----------------- n =  122\n",
      "----------------- n =  123\n",
      "----------------- n =  124\n",
      "----------------- n =  125\n",
      "----------------- n =  126\n",
      "----------------- n =  127\n",
      "----------------- n =  128\n",
      "----------------- n =  129\n",
      "----------------- n =  130\n",
      "----------------- n =  131\n",
      "----------------- n =  132\n",
      "----------------- n =  133\n",
      "----------------- n =  134\n",
      "----------------- n =  135\n",
      "----------------- n =  136\n",
      "----------------- n =  137\n",
      "----------------- n =  138\n",
      "----------------- n =  139\n",
      "----------------- n =  140\n",
      "----------------- n =  141\n",
      "----------------- n =  142\n",
      "----------------- n =  143\n",
      "----------------- n =  144\n",
      "----------------- n =  145\n",
      "----------------- n =  146\n",
      "----------------- n =  147\n",
      "----------------- n =  148\n",
      "----------------- n =  149\n",
      "----------------- n =  150\n",
      "H_N =  [1.00000000e+000 2.00000000e+000 6.00000000e+000 2.00000000e+001\n",
      " 7.60000000e+001 3.12000000e+002 1.38400000e+003 6.51200000e+003\n",
      " 3.24000000e+004 1.68992000e+005 9.21184000e+005 5.22220800e+006\n",
      " 3.07104640e+007 1.86753920e+008 1.17197990e+009 7.57306957e+009\n",
      " 5.03055363e+010 3.42949299e+011 2.39628683e+012 1.71387484e+013\n",
      " 1.25336396e+014 9.36222729e+014 7.13657411e+015 5.54669483e+016\n",
      " 4.39216305e+017 3.54084613e+018 2.90425075e+019 2.42209014e+020\n",
      " 2.05271343e+021 1.76691316e+022 1.54395642e+023 1.36893918e+024\n",
      " 1.23104082e+025 1.12232924e+026 1.03695279e+027 9.70574442e+027\n",
      " 9.19981841e+028 8.82809966e+029 8.57348556e+030 8.42405286e+031\n",
      " 8.37212931e+032 8.41366815e+033 8.54787966e+034 8.77705717e+035\n",
      " 9.10658794e+036 9.54512790e+037 1.01049547e+039 1.08025086e+040\n",
      " 1.16591592e+041 1.27022401e+042 1.39664240e+043 1.54955249e+044\n",
      " 1.73448575e+045 1.95843174e+046 2.23024124e+047 2.56115453e+048\n",
      " 2.96549627e+049 3.46159232e+050 4.07298421e+051 4.83004394e+052\n",
      " 5.77213016e+053 6.95047876e+054 8.43209454e+055 1.03050126e+057\n",
      " 1.26854416e+058 1.57275044e+059 1.96365750e+060 2.46876208e+061\n",
      " 3.12505347e+062 3.98252713e+063 5.10907921e+064 6.59735382e+065\n",
      " 8.57436324e+066 1.12150621e+068 1.47615828e+069 1.95506085e+070\n",
      " 2.60524959e+071 3.49274241e+072 4.71063284e+073 6.39080473e+074\n",
      " 8.72096084e+075 1.19694797e+077 1.65218525e+078 2.29343173e+079\n",
      " 3.20131386e+080 4.49322808e+081 6.34087918e+082 8.99652813e+083\n",
      " 1.28324354e+085 1.84003766e+086 2.65218103e+087 3.84250399e+088\n",
      " 5.59547028e+089 8.18930140e+090 1.20454350e+092 1.78049736e+093\n",
      " 2.64473212e+094 3.94750136e+095 5.92028059e+096 8.92115879e+097\n",
      " 1.35063873e+099 2.05435950e+100 3.13916214e+101 4.81872582e+102\n",
      " 7.43041917e+103 1.15090335e+105 1.79056870e+106 2.79802885e+107\n",
      " 4.39142278e+108 6.92202687e+109 1.09577070e+111 1.74200005e+112\n",
      " 2.78101097e+113 4.45828231e+114 7.17674126e+115 1.16002319e+117\n",
      " 1.88265513e+118 3.06778483e+119 5.01896997e+120 8.24376619e+121\n",
      " 1.35939018e+123 2.25038192e+124 3.73980061e+125 6.23889201e+126\n",
      " 1.04476879e+128 1.75619898e+129 2.96316177e+130 5.01825378e+131\n",
      " 8.53008165e+132 1.45527460e+134 2.49181599e+135 4.28207716e+136\n",
      " 7.38497332e+137 1.27816784e+139 2.22003647e+140 3.86949709e+141\n",
      " 6.76799788e+142 1.18786317e+144 2.09200405e+145 3.69690315e+146\n",
      " 6.55515190e+147 1.16623592e+149 2.08180002e+150 3.72847002e+151\n",
      " 6.69964206e+152 1.20779221e+154 2.18445464e+155 3.96364417e+156\n",
      " 7.21502547e+157 1.31753918e+159 2.41358543e+160]\n"
     ]
    }
   ],
   "source": [
    "H_N = np.zeros(N+1) \n",
    "H_N[0] = 1\n",
    "for n in range(1,N+1):\n",
    "    print('----------------- n = ', n)\n",
    "    H_N_n = 0\n",
    "    index_list = multi_index(m, n)\n",
    "    for i in index_list:\n",
    "        coeff = multi_coeff(i)\n",
    "        max_power = np.max(i)\n",
    "        non_zero_count = np.count_nonzero(i)\n",
    "        non_zero_position = np.nonzero(i)\n",
    "        vectors_list = coeff_vectors_list(i[non_zero_position], max_power)\n",
    "        \n",
    "        #correlator = Y.correlator_formula(max_power, non_zero_count-1, time_sequence[non_zero_position], vectors_list, initial_state)\n",
    "        expG_n = lambda t: csr(expG_N(t).toarray()[:(max_power*non_zero_count+1), :(max_power*non_zero_count+1)])\n",
    "        correlator = Y.correlator_formula_2(expG_n, max_power, non_zero_count-1, time_sequence[non_zero_position], vectors_list, initial_state)\n",
    "        #correlator = Y.correlator_formula_3(expG_n, E_matrix[max_power-1][:non_zero_count], D_matrix[max_power-1][:non_zero_count], max_power, non_zero_count-1, time_sequence[non_zero_position], vectors_list, initial_state)\n",
    "        #correlator = (e_n_i(max_power+1,max_power+1).transpose()).dot(Y.exp_generator_matrix_scipy(max_power, t=T)).dot(H_n_x(max_power, initial_state))\n",
    "        H_N_n += coeff*correlator\n",
    "    \n",
    "    H_N[n] = H_N_n/float(((m+1)**n))\n",
    "\n",
    "print('H_N = ', H_N)"
   ]
  },
  {
   "cell_type": "code",
   "execution_count": 7,
   "metadata": {},
   "outputs": [],
   "source": [
    "# Strike price\n",
    "K = 1.0"
   ]
  },
  {
   "cell_type": "code",
   "execution_count": 8,
   "metadata": {},
   "outputs": [
    {
     "name": "stdout",
     "output_type": "stream",
     "text": [
      "price_exact =  0.8041435634300753\n"
     ]
    }
   ],
   "source": [
    "# CLOSED FORMULA\n",
    "price_exact = (std*norm.pdf((K-mean)/std)-(K-mean)*(1-norm.cdf((K-mean)/std)))*np.exp(-r*(T-t))\n",
    "print('price_exact = ', price_exact)"
   ]
  },
  {
   "cell_type": "code",
   "execution_count": 9,
   "metadata": {
    "scrolled": true
   },
   "outputs": [
    {
     "name": "stdout",
     "output_type": "stream",
     "text": [
      "MC_price_interval = [ 0.798234683817006 ,  0.8084538491515474 ]\n",
      "std =  0.005109582667270689\n"
     ]
    }
   ],
   "source": [
    "# MONTE CARLO SIMULATIONS\n",
    "\n",
    "N_mc = 100 # number of samples\n",
    "IT = 20000 # number of iterations for each sample\n",
    "\n",
    "price_MC = np.zeros(N_mc)\n",
    "time_MC = np.zeros(N_mc)\n",
    "for mc in range(N_mc):\n",
    "    exp = np.zeros(IT)\n",
    "    a = time.time()\n",
    "    for it in range(IT):\n",
    "        delta = (T-t)/(m+1)\n",
    "        std_BM = np.sqrt(sigma0*(np.exp(2*b1*delta)-1)/2/b1)\n",
    "        Z = np.zeros(m+2)\n",
    "        Z[0] = initial_state\n",
    "        for k in np.arange(m+1):\n",
    "            Z[k+1] = Z[k]*np.exp(b1*delta)+b0/b1*(np.exp(b1*delta)-1) + np.random.normal(loc = 0, scale =  std_BM)\n",
    "            #Z[k+1] = Z[k] + (b0 + Z[k]*b1)*Delta + np.random.normal(loc = 0, scale =  np.sqrt(sigma0*Delta))\n",
    "        Z = Z[1:]\n",
    "        exp[it] = max(np.sum(Z)/(m+1)-K,0)*np.exp(-r*(T-t))\n",
    "    price_MC[mc] = np.sum(exp)/IT\n",
    "    b = time.time()\n",
    "    time_MC[mc] = b-a\n",
    "\n",
    "print('MC_price_interval = [', np.mean(price_MC) - np.std(price_MC), ', ', np.mean(price_MC) + np.std(price_MC), ']')\n",
    "print('std = ', np.std(price_MC))"
   ]
  },
  {
   "cell_type": "code",
   "execution_count": 10,
   "metadata": {},
   "outputs": [
    {
     "name": "stdout",
     "output_type": "stream",
     "text": [
      "accuracy_MC =  3.0026254366050886\n"
     ]
    }
   ],
   "source": [
    "accuracy_MC = -np.log10(np.abs(np.mean(price_MC)-price_exact)/price_exact)\n",
    "print('accuracy_MC = ', accuracy_MC)"
   ]
  },
  {
   "cell_type": "markdown",
   "metadata": {},
   "source": [
    "### Pricing with generalized Hermite polynomials\n"
   ]
  },
  {
   "cell_type": "code",
   "execution_count": 11,
   "metadata": {},
   "outputs": [
    {
     "name": "stdout",
     "output_type": "stream",
     "text": [
      "min_scale =  1.0\n",
      "K =  1.0\n",
      "drift =  2.0\n",
      "scale =  2.0\n",
      "ratio =  -0.5\n"
     ]
    }
   ],
   "source": [
    "# Parameters for the Hermite series \n",
    "min_scale = std/np.sqrt(2) #\\underline{b}_{\\sigma}\n",
    "print('min_scale = ', min_scale)\n",
    "\n",
    "drift = mean\n",
    "scale = min_scale*2\n",
    "ratio = (K-drift)/scale\n",
    "\n",
    "print('K = ', K)\n",
    "print('drift = ', drift)\n",
    "print('scale = ', scale)\n",
    "print('ratio = ', ratio)"
   ]
  },
  {
   "cell_type": "code",
   "execution_count": 12,
   "metadata": {
    "scrolled": true
   },
   "outputs": [
    {
     "name": "stdout",
     "output_type": "stream",
     "text": [
      "E_N =  [ 1.00000000e+000  1.28275168e-012  5.00000000e-001 -5.21582777e-012\n",
      "  7.50000000e-001 -3.57136543e-011  1.87500000e+000 -1.72235559e-010\n",
      "  6.56250000e+000 -1.72633463e-009  2.95312500e+001 -1.50957931e-008\n",
      "  1.62421875e+002 -1.52314897e-007  1.05574219e+003 -1.45516242e-006\n",
      "  7.91806641e+003 -5.51668927e-006  6.73035644e+004  2.45675445e-004\n",
      "  6.39383861e+005  7.53045082e-003  6.71353052e+006  9.36326981e-002\n",
      "  7.72056012e+007 -3.80767822e-001  9.65070024e+008 -5.71523438e+001\n",
      "  1.30284456e+010 -2.19969141e+003  1.88912468e+011 -6.74368750e+004\n",
      "  2.92814343e+012 -1.99053200e+006  4.83143715e+013 -6.02654400e+007\n",
      "  8.45501643e+014 -1.82568141e+009  1.56417842e+016 -5.44712950e+010\n",
      "  3.05014895e+017 -1.63384499e+012  6.25280825e+018 -4.97182730e+013\n",
      "  1.34435459e+020 -1.52868838e+015  3.02480020e+021 -4.85516847e+016\n",
      "  7.10828823e+022 -1.61874692e+018  1.74153325e+024 -5.54947444e+019\n",
      "  4.44091829e+025 -1.93009953e+021  1.17684625e+027 -7.04578884e+022\n",
      "  3.23633937e+028 -2.80148223e+024  9.22362309e+029 -1.17741841e+026\n",
      "  2.72099149e+031 -4.84831495e+027  8.29909448e+032 -1.83974709e+029\n",
      "  2.61422824e+034 -6.25215391e+030  8.49623844e+035 -1.92456774e+032\n",
      "  2.84622754e+037 -5.75368162e+033  9.81944162e+038 -1.77033547e+035\n",
      "  3.48588383e+040 -4.53571723e+036  1.27232720e+042  4.57091684e+037\n",
      "  4.77102027e+043  2.03192593e+040  1.83668624e+045  2.04112745e+042\n",
      "  7.25394277e+046  1.55350364e+044  2.93729380e+048  1.04957415e+046\n",
      "  1.21866781e+050  6.75035891e+047  5.17751968e+051  4.35020295e+049\n",
      "  2.25104752e+053  2.88187673e+051  1.00090831e+055  1.96755877e+053\n",
      "  4.54864389e+056  1.34344961e+055  2.11173279e+058  8.84785228e+056\n",
      "  1.00124103e+060  5.53941555e+058  4.84691416e+061  3.37135413e+060\n",
      "  2.39423602e+063  2.08732101e+062  1.20570735e+065  1.35607372e+064\n",
      "  6.18423995e+066  9.19189596e+065  3.22879238e+068  6.36300533e+067\n",
      "  1.71512436e+070  4.45381990e+069  9.26142776e+071  3.18559418e+071\n",
      "  5.07582283e+073  2.35899988e+073  2.81681622e+075  1.79209018e+075\n",
      "  1.58074296e+077  1.37043995e+077  8.97022846e+078  1.03909552e+079\n",
      "  5.14491684e+080  7.86710195e+080  2.97050170e+082  6.07679879e+082\n",
      "  1.71035629e+084  4.83253734e+084  9.70854665e+085  3.94747307e+086\n",
      "  5.33972564e+087  3.28190637e+088  2.74941911e+089  2.77498188e+090\n",
      "  1.20471359e+091  2.38132343e+092  2.97722017e+092  2.05236958e+094\n",
      " -2.07067338e+094  1.75247963e+096 -4.47470360e+096  1.46342724e+098\n",
      " -5.17102400e+098  1.18831934e+100 -4.93487888e+100  9.44756472e+101\n",
      " -4.34722917e+102  7.54290200e+103 -3.89729875e+104  6.33148543e+105\n",
      " -3.79569795e+106  5.75613147e+107 -4.03614567e+108]\n"
     ]
    }
   ],
   "source": [
    "# We now calculate the moments of X (see Eq. (4.4))\n",
    "E_N = np.zeros(N+1) \n",
    "E_N[0] = 1\n",
    "for j in range(1, N+1):\n",
    "    E_N_j = 0\n",
    "    for i in range(j+1):\n",
    "        E_N_j += float(newton(j,i))*H_N[i]*((-drift)**(j-i))\n",
    "    E_N[j] = E_N_j/(scale**(j))\n",
    "    \n",
    "print('E_N = ', E_N)"
   ]
  },
  {
   "cell_type": "code",
   "execution_count": 13,
   "metadata": {
    "scrolled": true
   },
   "outputs": [
    {
     "name": "stdout",
     "output_type": "stream",
     "text": [
      "k =  1 , price =  0.9354940409615082\n",
      "k =  2 , price =  0.8174958179395015\n",
      "k =  3 , price =  0.817495817939858\n",
      "k =  4 , price =  0.8064334845313276\n",
      "k =  5 , price =  0.8064334845315205\n",
      "k =  6 , price =  0.8045129405368568\n",
      "------> Accuracy 10**(-3) for k =  6\n",
      "k =  7 , price =  0.8045129405369184\n",
      "k =  8 , price =  0.8041540388778436\n",
      "k =  9 , price =  0.804154038877779\n",
      "k =  10 , price =  0.8041052900696273\n",
      "k =  11 , price =  0.8041052900694221\n",
      "k =  12 , price =  0.804113139323993\n",
      "k =  13 , price =  0.8041131393236276\n",
      "k =  14 , price =  0.8041254850402092\n",
      "k =  15 , price =  0.8041254850396627\n",
      "k =  16 , price =  0.8041338773164789\n",
      "k =  17 , price =  0.8041338773157352\n",
      "k =  18 , price =  0.8041386290295061\n",
      "k =  19 , price =  0.8041386290285611\n",
      "k =  20 , price =  0.8041411207813421\n",
      "k =  21 , price =  0.8041411207802077\n",
      "k =  22 , price =  0.8041423758096595\n",
      "k =  23 , price =  0.8041423758083606\n",
      "k =  24 , price =  0.8041429929489629\n",
      "k =  25 , price =  0.8041429929475209\n",
      "k =  26 , price =  0.8041432917427059\n",
      "k =  27 , price =  0.8041432917411595\n",
      "k =  28 , price =  0.8041434348665157\n",
      "k =  29 , price =  0.8041434348648934\n",
      "k =  30 , price =  0.8041435028916206\n",
      "k =  31 , price =  0.8041435028899735\n",
      "k =  32 , price =  0.8041435350300947\n",
      "k =  33 , price =  0.804143535028518\n",
      "k =  34 , price =  0.8041435501392963\n",
      "k =  35 , price =  0.8041435501380796\n",
      "k =  36 , price =  0.8041435572083493\n",
      "k =  37 , price =  0.80414355720774\n",
      "k =  38 , price =  0.8041435604986671\n",
      "k =  39 , price =  0.8041435604986062\n",
      "k =  40 , price =  0.8041435620105678\n",
      "k =  41 , price =  0.8041435620105676\n",
      "k =  42 , price =  0.8041435626845668\n",
      "k =  43 , price =  0.804143562683856\n",
      "k =  44 , price =  0.8041435629778457\n",
      "k =  45 , price =  0.8041435629763529\n",
      "k =  46 , price =  0.804143563066999\n",
      "k =  47 , price =  0.804143563046502\n",
      "k =  48 , price =  0.8041435630926616\n",
      "k =  49 , price =  0.8041435631439783\n",
      "k =  50 , price =  0.8041435628867408\n",
      "k =  51 , price =  0.8041435629164282\n",
      "k =  52 , price =  0.8041435629680933\n",
      "k =  53 , price =  0.8041435627762188\n",
      "k =  54 , price =  0.8041435625944315\n",
      "k =  55 , price =  0.8041435632138583\n",
      "k =  56 , price =  0.8041435641709028\n",
      "k =  57 , price =  0.8041435672950297\n",
      "k =  58 , price =  0.8041435732337189\n",
      "k =  59 , price =  0.8041435816167319\n",
      "k =  60 , price =  0.8041435698396887\n",
      "k =  61 , price =  0.8041435911615911\n",
      "k =  62 , price =  0.8041435933576633\n",
      "k =  63 , price =  0.8041436481645055\n",
      "k =  64 , price =  0.804143677635314\n",
      "k =  65 , price =  0.8041437386599964\n",
      "k =  66 , price =  0.804143964322983\n",
      "k =  67 , price =  0.8041442992611771\n",
      "k =  68 , price =  0.8041445900647808\n",
      "k =  69 , price =  0.8041439147993552\n",
      "k =  70 , price =  0.804144919557102\n",
      "k =  71 , price =  0.804144128170157\n",
      "k =  72 , price =  0.8041460157196181\n",
      "k =  73 , price =  0.8041472803074917\n",
      "k =  74 , price =  0.8041467885501589\n",
      "k =  75 , price =  0.8041464215805543\n",
      "k =  76 , price =  0.8041511083742836\n",
      "k =  77 , price =  0.8041974100341681\n",
      "k =  78 , price =  0.8041713404937176\n",
      "k =  79 , price =  0.8043048929420158\n",
      "k =  80 , price =  0.8042684612003952\n",
      "k =  81 , price =  0.8039599802681834\n",
      "k =  82 , price =  0.8039800760540416\n",
      "k =  83 , price =  0.8038824945367992\n",
      "k =  84 , price =  0.8037423606725828\n",
      "k =  85 , price =  0.8041732994917944\n",
      "k =  86 , price =  0.8041056230620233\n",
      "k =  87 , price =  0.8032159469232757\n",
      "k =  88 , price =  0.8035521182579496\n",
      "k =  89 , price =  0.7867695228704138\n",
      "k =  90 , price =  0.7867512139644397\n",
      "k =  91 , price =  0.7691800716505206\n",
      "k =  92 , price =  0.7688692372936174\n",
      "k =  93 , price =  0.7142247302337873\n",
      "k =  94 , price =  0.7142814872603813\n",
      "k =  95 , price =  0.6719596880666064\n",
      "k =  96 , price =  0.6925206712271192\n",
      "k =  97 , price =  1.1269768794574484\n",
      "k =  98 , price =  1.144252490346012\n",
      "k =  99 , price =  0.7681748388445252\n",
      "k =  100 , price =  1.0371187749784148\n",
      "k =  101 , price =  3.0707287865391475\n",
      "k =  102 , price =  3.6303034644403107\n",
      "k =  103 , price =  6.135976204675837\n",
      "k =  104 , price =  4.284741909153478\n",
      "k =  105 , price =  2.0192473978798735\n",
      "k =  106 , price =  -8.91296518844598\n",
      "k =  107 , price =  4.883337588641181\n",
      "k =  108 , price =  13.848898286045257\n",
      "k =  109 , price =  -33.911723597560304\n",
      "k =  110 , price =  2.3736851391411733\n",
      "k =  111 , price =  115.74754070919803\n",
      "k =  112 , price =  168.79656801164998\n",
      "k =  113 , price =  87.70890647032256\n",
      "k =  114 , price =  344.3197834896533\n",
      "k =  115 , price =  -318.67895577714575\n",
      "k =  116 , price =  -1574.1372513431297\n",
      "k =  117 , price =  -4781.67229085128\n",
      "k =  118 , price =  -7451.4674556267655\n",
      "k =  119 , price =  -7677.10705244438\n",
      "k =  120 , price =  -7688.759126052595\n",
      "k =  121 , price =  -20376.132694744723\n",
      "k =  122 , price =  -19457.939611740072\n",
      "k =  123 , price =  -5321.842984031044\n",
      "k =  124 , price =  18232.027403180662\n",
      "k =  125 , price =  927.0190245402009\n",
      "k =  126 , price =  152939.8303410878\n",
      "k =  127 , price =  168956.08129137583\n",
      "k =  128 , price =  -251969.9430000549\n",
      "k =  129 , price =  -76982.22066994719\n",
      "k =  130 , price =  1141553.6464305243\n",
      "k =  131 , price =  486510.7595305509\n",
      "k =  132 , price =  1491061.0432753847\n",
      "k =  133 , price =  1591274.8060443266\n",
      "k =  134 , price =  3075214.842649509\n",
      "k =  135 , price =  6798288.084140489\n",
      "k =  136 , price =  7588645.490977689\n",
      "k =  137 , price =  7867151.821793821\n",
      "k =  138 , price =  29031905.062449045\n",
      "k =  139 , price =  23419212.413183957\n",
      "k =  140 , price =  31485657.483298536\n",
      "k =  141 , price =  95613183.7960413\n",
      "k =  142 , price =  494269858.98783803\n",
      "k =  143 , price =  521097142.84563655\n",
      "k =  144 , price =  -94765927.61315352\n",
      "k =  145 , price =  -42450190.081843816\n",
      "k =  146 , price =  576541304.1819558\n",
      "k =  147 , price =  835960288.7125895\n",
      "k =  148 , price =  -3701563195.5379744\n",
      "k =  149 , price =  -6154467993.934364\n",
      "k =  150 , price =  -881176607.6270027\n"
     ]
    },
    {
     "data": {
      "image/png": "[encoded data removed]",
      "text/plain": [
       "<Figure size 432x288 with 1 Axes>"
      ]
     },
     "metadata": {
      "needs_background": "light"
     },
     "output_type": "display_data"
    }
   ],
   "source": [
    "# We now calculate the option price via Hermite series Eq. (4.5)\n",
    "# We calculate the accuracy accordingly to Eq. (5.9) \n",
    "# and we check when the series reaches the same accuracy of the MC simulations\n",
    "\n",
    "Hprice = np.ones(N+1)*(scale*norm.pdf(ratio)+(mean-K)*(1-norm.cdf(ratio)))*np.exp(-r*(T-t))\n",
    "notachieved = 1\n",
    "best_n = -10\n",
    "best = 0\n",
    "print('k = ', 1, ', price = ', Hprice[0])\n",
    "if (-np.log10(abs(price_exact-Hprice[0])/price_exact)>accuracy_MC) and notachieved:\n",
    "    notachieved = 0\n",
    "    best = Hprice[0]\n",
    "    best_n = 1\n",
    "    print('------> Accuracy 10**(-3) for k = ', 1)\n",
    "    \n",
    "for k in range(2,N+1):\n",
    "    v_k = hermite(k).c[::-1]\n",
    "    Hprice[(k-1):] += scale*norm.pdf(ratio)*(hermite(k-2)(ratio)/float(math.factorial(k))*v_k.dot(E_N[:(k+1)]))*np.exp(-r*(T-t))\n",
    "    print('k = ', k, ', price = ', Hprice[k-1])\n",
    "    if (np.abs(Hprice[k-1]) < 2): plt.plot(k, Hprice[k-1], 'k.')\n",
    "    if (-np.log10(abs(price_exact-Hprice[k-1])/price_exact)>accuracy_MC) and notachieved:\n",
    "        notachieved = 0\n",
    "        best = Hprice[k-1]\n",
    "        best_n = k\n",
    "        print('------> Accuracy 10**(-3) for k = ', k)\n",
    "    if not notachieved and (k == best_n+5):\n",
    "        not_casual_bump = 1\n",
    "        for j in range(best_n, k):\n",
    "            not_casual_bump = not_casual_bump*(-np.log10(abs(price_exact-Hprice[j-1])/price_exact)>accuracy_MC)\n",
    "        if not not_casual_bump: notachieved = 1\n",
    "            \n",
    "        \n",
    "\n",
    "    \n",
    "plt.hlines(y = price_exact, xmin=0, xmax = N+1, colors ='red')\n",
    "s = \"best_price = {} \\nexact_price = {}\\nn = {}\"\n",
    "plt.text(x = N, y = price_exact, s = s.format(best, price_exact, best_n));  \n",
    "plt.plot(best_n, best, 'ro');"
   ]
  },
  {
   "cell_type": "code",
   "execution_count": 14,
   "metadata": {},
   "outputs": [
    {
     "data": {
      "image/png": "[encoded data removed]",
      "text/plain": [
       "<Figure size 432x432 with 1 Axes>"
      ]
     },
     "metadata": {
      "needs_background": "light"
     },
     "output_type": "display_data"
    }
   ],
   "source": [
    "# Plots\n",
    "range_N = np.arange(0,N+1,2)\n",
    "\n",
    "f = plt.figure(figsize = (6,6))\n",
    "ax = plt.axes()\n",
    "plt.bar(range_N, -np.log10(np.abs(Hprice[range_N]-price_exact)/price_exact), alpha=0.9, color='black', width=0.6);\n",
    "plt.bar(best_n, -np.log10(np.abs(Hprice[best_n]-price_exact)/price_exact), alpha=0.9, color='red', width=0.8);\n",
    "plt.hlines(y = 0, xmin = 1, xmax = N+0.5,linestyle = 'solid', linewidth = 1, color='black');\n",
    "plt.hlines(y = accuracy_MC, xmin = 1, xmax = N+0.5,linestyle = 'dashed', linewidth = 2, color='red');\n",
    "plt.xlim([1.,N+0.5]);\n",
    "plt.ylim([0, 10])\n",
    "plt.xlabel('N', fontsize=15)\n",
    "plt.yticks(np.arange(0,11),np.arange(0,11), fontsize=15)\n",
    "plt.xticks(range_N[::5], range_N[::5], fontsize=10);\n",
    "#f.savefig('Plots_OU_corr/plot_OU_corr_40_1.pdf', bbox_inches = 'tight', pad_inches = 0.01)"
   ]
  },
  {
   "cell_type": "code",
   "execution_count": null,
   "metadata": {},
   "outputs": [],
   "source": []
  },
  {
   "cell_type": "code",
   "execution_count": null,
   "metadata": {},
   "outputs": [],
   "source": []
  },
  {
   "cell_type": "code",
   "execution_count": null,
   "metadata": {},
   "outputs": [],
   "source": []
  },
  {
   "cell_type": "code",
   "execution_count": null,
   "metadata": {},
   "outputs": [],
   "source": []
  }
 ],
 "metadata": {
  "kernelspec": {
   "display_name": "Python 3 (ipykernel)",
   "language": "python",
   "name": "python3"
  },
  "language_info": {
   "codemirror_mode": {
    "name": "ipython",
    "version": 3
   },
   "file_extension": ".py",
   "mimetype": "text/x-python",
   "name": "python",
   "nbconvert_exporter": "python",
   "pygments_lexer": "ipython3",
   "version": "3.9.7"
  }
 },
 "nbformat": 4,
 "nbformat_minor": 4
}
